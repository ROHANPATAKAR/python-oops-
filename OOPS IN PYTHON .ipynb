{
 "cells": [
  {
   "cell_type": "markdown",
   "metadata": {},
   "source": [
    "# OOPS"
   ]
  },
  {
   "cell_type": "raw",
   "metadata": {},
   "source": [
    "Object-oriented programming is a programming paradigm that provides a means of structuring programs so that properties and behaviors are bundled into individual objects."
   ]
  },
  {
   "cell_type": "code",
   "execution_count": 25,
   "metadata": {},
   "outputs": [
    {
     "name": "stdout",
     "output_type": "stream",
     "text": [
      "i5,16gb,1TB\n",
      "i5,16gb,1TB\n",
      "i5,16gb,1TB\n",
      "i5,16gb,1TB\n"
     ]
    }
   ],
   "source": [
    "class computer: #created class named computer\n",
    "    def configuration(self): #created definition named configuratuion\n",
    "        print(\"i5,16gb,1TB\")\n",
    "        \n",
    "comp1=computer()\n",
    "comp2=computer()\n",
    "\n",
    "computer.configuration(comp1)\n",
    "computer.configuration(comp2)\n",
    "\n",
    "comp1.configuration()#mainly this one is used \n",
    "comp2.configuration()\n",
    "\n",
    "#this is how we create classes in python"
   ]
  },
  {
   "cell_type": "code",
   "execution_count": 43,
   "metadata": {},
   "outputs": [
    {
     "name": "stdout",
     "output_type": "stream",
     "text": [
      "persons name is rohan and age is 20\n",
      "configuration:  i5 16GB 1TB\n",
      "configuration:  ryzen 3 8GB 2TB\n"
     ]
    }
   ],
   "source": [
    "#__init__ method\n",
    "#it is like constructor.constructors are used to initialize the objects state...\n",
    "#example 1\n",
    "class person:\n",
    "    def __init__(self,name,age):\n",
    "        self.name=name\n",
    "        self.age=age\n",
    "    def a(self):\n",
    "        print(\"persons name is {} and age is {}\".format(self.name,self.age))\n",
    "person=person(\"rohan\",20)\n",
    "person.a();\n",
    "\n",
    "#example 2\n",
    "class computer:\n",
    "    def __init__(self,cpu,ram,rom):\n",
    "        self.cpu=cpu\n",
    "        self.ram=ram\n",
    "        self.rom=rom\n",
    "    def configuartion(self):\n",
    "        print(\"configuration: \",self.cpu,self.ram,self.rom)\n",
    "comp1=computer(\"i5\",\"16GB\",\"1TB\")\n",
    "comp2=computer(\"ryzen 3\",\"8GB\",\"2TB\")\n",
    "comp1.configuartion()\n",
    "comp2.configuartion()"
   ]
  },
  {
   "cell_type": "code",
   "execution_count": 68,
   "metadata": {},
   "outputs": [
    {
     "name": "stdout",
     "output_type": "stream",
     "text": [
      "id of self 2250951034120\n",
      "id of object  2250951034120\n",
      "spec is  merc maybach red\n",
      "spec is  audi a7 red\n",
      "they are same\n"
     ]
    }
   ],
   "source": [
    "#everytime the object is created it will allocate new space or memory\n",
    "#SELF IS REFERING TO OBJECT.by self u can have acces to methods and attributes\n",
    "\n",
    "class checking:\n",
    "    def __init__(self):\n",
    "        print(\"id of self\",id(self))\n",
    "object=checking()\n",
    "print(\"id of object \",id(object))\n",
    "\n",
    "\n",
    "#example\n",
    "class car:\n",
    "    def __init__(self,model,color):\n",
    "        self.model=model\n",
    "        self.color=color\n",
    "    def spec(self):\n",
    "        print(\"spec is \",self.model,self.color)\n",
    "   \n",
    "\n",
    "    def compare(self,other):#here self and other is who is calling and whom to call\n",
    "        if self.color==other.color:\n",
    "            return True\n",
    "        else:\n",
    "            return False\n",
    "car1=car(\"merc maybach\",\"red\")\n",
    "car2=car(\"audi a7\",\"red\")\n",
    "car1.spec()\n",
    "car2.spec()\n",
    "    \n",
    "#lets compare if cars color is same or not\n",
    "if car1.compare(car2):\n",
    "    print(\"they are same\")\n",
    "else:\n",
    "    print(\"they arent same\")"
   ]
  },
  {
   "cell_type": "raw",
   "metadata": {},
   "source": [
    "VARIABLES\n",
    "Type of variables\n",
    "1-->instance variable\n",
    "2-->class(static) variable"
   ]
  },
  {
   "cell_type": "raw",
   "metadata": {},
   "source": [
    "IF U DEFINE VARIABLE INSIDE __init__ THEN IT IS INSTANCE VARIABLE\n",
    "IF U DEFINE VARIABLE OUTSIDE __init__ BUT INSIDE THE class() THEN IT IS CLASS OR STATIC VARIABLE"
   ]
  },
  {
   "cell_type": "raw",
   "metadata": {},
   "source": [
    "NAMESPACE IS WHERE U CREATE AND STORE OBJECT/VARIABLE\n",
    "-->CLASS NAMESPACE\n",
    "-->OBJ/INSTANCE NAMESPACE"
   ]
  },
  {
   "cell_type": "code",
   "execution_count": 83,
   "metadata": {},
   "outputs": [
    {
     "name": "stdout",
     "output_type": "stream",
     "text": [
      "MERCEDES maybach\n",
      "MERCEDES maybach\n",
      "\n",
      "MERCEDES maybach red\n",
      "MERCEDES maybach red\n"
     ]
    }
   ],
   "source": [
    "class car:\n",
    "    def __init__(self):\n",
    "        self.comp=\"MERCEDES\"\n",
    "        self.model=\"maybach\"\n",
    "car1=car()\n",
    "car2=car()\n",
    "print(car1.comp,car1.model)\n",
    "print(car1.comp,car1.model)\n",
    "#this is instance variable\n",
    "\n",
    "print(end=\"\\n\")\n",
    "\n",
    "class car:\n",
    "    color=\"red\"\n",
    "    def __init__(self):\n",
    "        self.comp=\"MERCEDES\"\n",
    "        self.model=\"maybach\"\n",
    "car1=car()\n",
    "car2=car()\n",
    "print(car1.comp,car1.model,car1.color)\n",
    "print(car2.comp,car2.model,car2.color)\n",
    "#this is static or class variable"
   ]
  },
  {
   "cell_type": "raw",
   "metadata": {},
   "source": [
    "METHODS\n",
    "TYPES OF METHODS\n",
    "-->INSTANCE METHOD\n",
    "-->CLASS METHOD\n",
    "-->STATIC METHOD"
   ]
  },
  {
   "cell_type": "raw",
   "metadata": {},
   "source": [
    "FETCHING THE VALUES ACCESSORS\n",
    "MODIFYING THE VALUES MUTATOR"
   ]
  },
  {
   "cell_type": "raw",
   "metadata": {},
   "source": [
    "WORKING WITH INSTANCE self KEYWORD\n",
    "WORKING WITH CLASS cls KEYWORD\n",
    "WORKING WITH STATIC KEEP IT BLANK def a():"
   ]
  },
  {
   "cell_type": "code",
   "execution_count": 1,
   "metadata": {},
   "outputs": [
    {
     "name": "stdout",
     "output_type": "stream",
     "text": [
      "95.0\n",
      "90.33333333333333\n",
      "ju\n",
      "hey\n",
      "None\n"
     ]
    }
   ],
   "source": [
    "class student:\n",
    "    school=\"ju\" #class variable\n",
    "    def __init__(self,m1,m2,m3):\n",
    "        self.m1=m1\n",
    "        self.m2=m2\n",
    "        self.m3=m3\n",
    "#lets find avg\n",
    "    def avg(self):\n",
    "        return (self.m1+self.m2+self.m3)/3\n",
    "    \n",
    "    def get_m1(self):#accessors to fetch value\n",
    "        return self.m1\n",
    "    \n",
    "    def set_m1(self):#mutators to modify value\n",
    "        return self.m1==val\n",
    "    \n",
    "    @classmethod #decorators\n",
    "    def getschoolname(cls):#class variable\n",
    "        return cls.school\n",
    "    \n",
    "    @staticmethod #decorators\n",
    "    def info():#static variable simply keep para blank \n",
    "        print(\"hey\")\n",
    "    \n",
    "stu1=student(90,98,97)\n",
    "stu2=student(98,89,84)\n",
    "\n",
    "print(stu1.avg())\n",
    "print(stu2.avg())\n",
    "\n",
    "print(stu1.getschoolname())\n",
    "print(student.info())"
   ]
  },
  {
   "cell_type": "raw",
   "metadata": {},
   "source": [
    "INNER CLASS-->CLASS INSIDE A CLASS"
   ]
  },
  {
   "cell_type": "code",
   "execution_count": 37,
   "metadata": {},
   "outputs": [
    {
     "name": "stdout",
     "output_type": "stream",
     "text": [
      "Name is abc and age is 20\n",
      "hp i5 8\n"
     ]
    }
   ],
   "source": [
    "class student:\n",
    "    def __init__(self,name,age):\n",
    "        self.name=name\n",
    "        self.age=age\n",
    "        self.lapt=self.laptop()\n",
    "    def show(self):\n",
    "        print(\"Name is {} and age is {}\".format(self.name,self.age))\n",
    "        self.lapt.show()\n",
    "        \n",
    "    class laptop:\n",
    "        def __init__(self):\n",
    "            self.brand=\"hp\"\n",
    "            self.cpu=\"i5\"\n",
    "            self.ram=8\n",
    "        def show(self):\n",
    "            print(self.brand,self.cpu,self.ram)\n",
    "stu1=student(\"rohan\",20)\n",
    "stu2=student(\"abc\",20)\n",
    "lap1=stu2.laptop()\n",
    "stu2.show()"
   ]
  },
  {
   "cell_type": "raw",
   "metadata": {},
   "source": [
    "INHERITANCE\n",
    "--It represents real-world relationships well.\n",
    "--It provides reusability of a code. We don’t have to write the same code again and again. Also, it allows us to add more features to a class without modifying it.\n",
    "--It is transitive in nature, which means that if class B inherits from another class A, then all the subclasses of B would automatically inherit from class A."
   ]
  },
  {
   "cell_type": "code",
   "execution_count": 41,
   "metadata": {},
   "outputs": [
    {
     "name": "stdout",
     "output_type": "stream",
     "text": [
      "hey hii\n",
      "how are u??\n",
      "iam fine\n"
     ]
    }
   ],
   "source": [
    "class a:#parent class\n",
    "    def info1(self):\n",
    "        print(\"hey hii\")\n",
    "    def info2(self):\n",
    "        print(\"how are u??\")\n",
    "\n",
    "#creating child class\n",
    "class b:\n",
    "    def info3(self):\n",
    "        print(\"iam fine\")\n",
    "    def info4(self):\n",
    "        print(\"wbu??\")\n",
    "                \n",
    "i1=a()\n",
    "i1.info1()\n",
    "i1.info2()\n",
    "\n",
    "i2=b()\n",
    "i2.info3()\n",
    "#it is giving attribute error"
   ]
  },
  {
   "cell_type": "code",
   "execution_count": 55,
   "metadata": {},
   "outputs": [
    {
     "name": "stdout",
     "output_type": "stream",
     "text": [
      "hey hii\n",
      "how are u??\n",
      "\n",
      "hey hii\n",
      "how are u??\n",
      "iam fine\n",
      "wbu??\n"
     ]
    }
   ],
   "source": [
    "class a:#parent class\n",
    "    def info1(self):\n",
    "        print(\"hey hii\")\n",
    "    def info2(self):\n",
    "        print(\"how are u??\")\n",
    "\n",
    "#creating child class\n",
    "class b(a):#class b is inheriting all the feature from class a\n",
    "    def info3(self):\n",
    "        print(\"iam fine\")\n",
    "    def info4(self):\n",
    "        print(\"wbu??\")\n",
    "                \n",
    "i1=a()\n",
    "i1.info1()\n",
    "i1.info2()\n",
    "\n",
    "print(end=\"\\n\")\n",
    "\n",
    "i2=b()\n",
    "i2.info1()\n",
    "i2.info2()\n",
    "i2.info3()\n",
    "i2.info4()\n",
    "\n",
    "#THIS IS SINGLE LEVEL INHERITANCE"
   ]
  },
  {
   "cell_type": "code",
   "execution_count": 56,
   "metadata": {},
   "outputs": [
    {
     "name": "stdout",
     "output_type": "stream",
     "text": [
      "hey hii\n",
      "how are u??\n",
      "\n",
      "hey hii\n",
      "how are u??\n",
      "iam fine\n",
      "wbu??\n",
      "\n",
      "hey hii\n",
      "how are u??\n",
      "iam fine\n",
      "wbu??\n",
      "iam also fine\n"
     ]
    }
   ],
   "source": [
    "#MULTILEVEL INHERITANCE \n",
    "#C-->B-->A\n",
    "\n",
    "class a:  #grand-parent class\n",
    "    def info1(self):\n",
    "        print(\"hey hii\")\n",
    "    def info2(self):\n",
    "        print(\"how are u??\")\n",
    "\n",
    "#creating parent class\n",
    "class b(a):#class b is inheriting all the feature from class a\n",
    "    def info3(self):\n",
    "        print(\"iam fine\")\n",
    "    def info4(self):\n",
    "        print(\"wbu??\")\n",
    "\n",
    "class c(b):\n",
    "    def info5(self):\n",
    "        print(\"iam also fine\")\n",
    "                \n",
    "i1=a()\n",
    "i1.info1()\n",
    "i1.info2()\n",
    "\n",
    "print(end=\"\\n\")\n",
    "\n",
    "i2=b()\n",
    "i2.info1()\n",
    "i2.info2()\n",
    "i2.info3()\n",
    "i2.info4()\n",
    "\n",
    "print(end=\"\\n\")\n",
    "\n",
    "i3=c()\n",
    "i3.info1()\n",
    "i3.info2()\n",
    "i3.info3()\n",
    "i3.info4()\n",
    "i3.info5()\n",
    "\n",
    "\n",
    "#THIS IS MULTI-LEVEL INHERITANCE"
   ]
  },
  {
   "cell_type": "code",
   "execution_count": 60,
   "metadata": {},
   "outputs": [
    {
     "name": "stdout",
     "output_type": "stream",
     "text": [
      "hey hii\n",
      "how are u??\n",
      "\n",
      "iam fine\n",
      "wbu??\n",
      "\n",
      "hey hii\n",
      "how are u??\n",
      "iam fine\n",
      "wbu??\n",
      "iam also fine\n"
     ]
    }
   ],
   "source": [
    "#MULTIPLE INHERITANCE\n",
    "#        A   B  \n",
    "#         \\ /\n",
    "#          C\n",
    "\n",
    "class a:  \n",
    "    def info1(self):\n",
    "        print(\"hey hii\")\n",
    "    def info2(self):\n",
    "        print(\"how are u??\")\n",
    "\n",
    "\n",
    "class b():#class b is inheriting all the feature from class a\n",
    "    def info3(self):\n",
    "        print(\"iam fine\")\n",
    "    def info4(self):\n",
    "        print(\"wbu??\")\n",
    "\n",
    "class c(a,b):\n",
    "    def info5(self):\n",
    "        print(\"iam also fine\")\n",
    "                \n",
    "i1=a()\n",
    "i1.info1()\n",
    "i1.info2()\n",
    "\n",
    "print(end=\"\\n\")\n",
    "\n",
    "i2=b()\n",
    "i2.info3()\n",
    "i2.info4()\n",
    "\n",
    "print(end=\"\\n\")\n",
    "\n",
    "i3=c()\n",
    "i3.info1()\n",
    "i3.info2()\n",
    "i3.info3()\n",
    "i3.info4()\n",
    "i3.info5()\n",
    "\n",
    "\n",
    "#THIS IS MULTIPLE INHERITANCE"
   ]
  },
  {
   "cell_type": "code",
   "execution_count": 1,
   "metadata": {},
   "outputs": [],
   "source": [
    "#CONSTRUCTOR IN INHERITANCE"
   ]
  },
  {
   "cell_type": "code",
   "execution_count": 23,
   "metadata": {
    "scrolled": true
   },
   "outputs": [
    {
     "name": "stdout",
     "output_type": "stream",
     "text": [
      "init in a\n",
      "init in b\n"
     ]
    }
   ],
   "source": [
    "class a:\n",
    "    def __init__(self):\n",
    "        print(\"init in a\")\n",
    "        \n",
    "class b(a):\n",
    "    def __init__(self):\n",
    "        super().__init__()\n",
    "        print(\"init in b\")\n",
    "        \n",
    "x=b()"
   ]
  },
  {
   "cell_type": "code",
   "execution_count": 27,
   "metadata": {},
   "outputs": [
    {
     "name": "stdout",
     "output_type": "stream",
     "text": [
      "init in a\n",
      "init in c\n"
     ]
    }
   ],
   "source": [
    "class a:\n",
    "    def __init__(self):\n",
    "        print(\"init in a\")\n",
    "        \n",
    "class b():\n",
    "    def __init__(self):\n",
    "        print(\"init in b\")\n",
    "class c(a,b):\n",
    "    def __init__(self):\n",
    "        super().__init__()\n",
    "        print(\"init in c\")\n",
    "        \n",
    "x=c()\n",
    "#always from left to right\n",
    "#      >>-->>-->>      \n",
    "#        A   B  \n",
    "#         \\ /\n",
    "#          C\n",
    "#mro -method resolution order"
   ]
  },
  {
   "cell_type": "code",
   "execution_count": 3,
   "metadata": {},
   "outputs": [],
   "source": [
    "#POLYMORPHISM -->ONE THING WHICH HAS MULTIPLE FORMS\n",
    "#define methods in the child class that have the same name as the methods in the parent class\n",
    "\n",
    "#OPERATOR OVERLOADING"
   ]
  },
  {
   "cell_type": "code",
   "execution_count": 29,
   "metadata": {},
   "outputs": [
    {
     "name": "stdout",
     "output_type": "stream",
     "text": [
      "14\n"
     ]
    },
    {
     "data": {
      "text/plain": [
       "4.0"
      ]
     },
     "execution_count": 29,
     "metadata": {},
     "output_type": "execute_result"
    }
   ],
   "source": [
    "a=4\n",
    "b=10\n",
    "print(a+b)\n",
    "#by method\n",
    "int.__add__(a,b)#magic methods\n",
    "int.__float__(a)"
   ]
  },
  {
   "cell_type": "code",
   "execution_count": 37,
   "metadata": {},
   "outputs": [
    {
     "name": "stdout",
     "output_type": "stream",
     "text": [
      "kawasaki ninja h2rktm rc390\n"
     ]
    }
   ],
   "source": [
    "#METHOD OVERLOADING\n",
    "class bike:\n",
    "    def __init__(self,model,color,mil):\n",
    "        self.model=model\n",
    "        self.color=color\n",
    "        self.mil=mil\n",
    "    def __add__(self,other):\n",
    "        model=self.model+other.model\n",
    "        color=self.color+other.color\n",
    "        mil=self.mil+other.mil\n",
    "        b3=bike(model,color,mil)\n",
    "        return b3\n",
    "b1=bike(\"kawasaki ninja h2r\",\"red\",\"10\")\n",
    "b2=bike(\"ktm rc390\",\"black\",\"23\")\n",
    "b3=b1+b2\n",
    "print(b3.model)"
   ]
  },
  {
   "cell_type": "code",
   "execution_count": 76,
   "metadata": {},
   "outputs": [
    {
     "name": "stdout",
     "output_type": "stream",
     "text": [
      "24\n",
      "lap2 win\n"
     ]
    }
   ],
   "source": [
    "#example2\n",
    "class laptop:\n",
    "    def __init__(self,company,cpu,ram):\n",
    "        self.company=company\n",
    "        self.cpu=cpu\n",
    "        self.ram=ram\n",
    "    def __add__(self,other):\n",
    "        company=self.company+other.company\n",
    "        cpu=self.cpu+other.cpu\n",
    "        ram=self.ram+other.ram\n",
    "        lap3=laptop(company,cpu,ram)\n",
    "        return lap3\n",
    "    def __gt__(self,other):\n",
    "        a1=self.company+self.cpu+self.ram\n",
    "        a2=other.company+other.cpu+other.ram\n",
    "        if a1>a2:\n",
    "            return True\n",
    "        else:\n",
    "            return False\n",
    "lap1=laptop(\"hp\",\"i5\",16)\n",
    "lap2=laptop(\"lenovo\",\"ryzen 3\",8)\n",
    "lap3=lap1+lap2\n",
    "print(lap3.ram)\n",
    "if lap1>lap2:\n",
    "    print(\"lap1 win\")\n",
    "else:\n",
    "    print(\"lap2 win\")\n"
   ]
  },
  {
   "cell_type": "code",
   "execution_count": 17,
   "metadata": {},
   "outputs": [
    {
     "name": "stdout",
     "output_type": "stream",
     "text": [
      "4\n"
     ]
    }
   ],
   "source": [
    "#method overloading\n",
    "class student:\n",
    "    def __init__(self,mark1,mark2):\n",
    "        self.mark1=mark1\n",
    "        self.mark2=mark2\n",
    "\n",
    "#i wanted 2 add 2 numbers now lets define it\n",
    "\n",
    "    def add(self,a,b):\n",
    "        add=a+b\n",
    "        return add\n",
    "s1=student(98,97)\n",
    "print(s1.add(2,2))\n",
    "\n"
   ]
  },
  {
   "cell_type": "code",
   "execution_count": 33,
   "metadata": {},
   "outputs": [
    {
     "data": {
      "text/plain": [
       "21112"
      ]
     },
     "execution_count": 33,
     "metadata": {},
     "output_type": "execute_result"
    }
   ],
   "source": [
    "#method overloading\n",
    "class student:\n",
    "    def __init__(self,mark1,mark2):\n",
    "        self.mark1=mark1\n",
    "        self.mark2=mark2\n",
    "\n",
    "#i wanted 2 add 2 numbers now lets define it\n",
    "#suppose we have 3 arguments but in order to access only our desired arguments lets define it \n",
    "    def add(self,a=None,b=None,c=None):\n",
    "        s=0\n",
    "        if a!=None and b!=None and c!=None:\n",
    "                 s=a+b+c\n",
    "        elif a!=None and b!=None:\n",
    "            s=a+b\n",
    "        else:\n",
    "            s=a\n",
    "        return s\n",
    "             \n",
    "        return s\n",
    "s1=student(98,97)\n",
    "s1.add(1,21)\n",
    "\n"
   ]
  },
  {
   "cell_type": "code",
   "execution_count": null,
   "metadata": {},
   "outputs": [],
   "source": [
    " # To have a error free way of accessing and updating private variables, we create specific methods for this.\n",
    "\n",
    " # The methods which are meant to set a value to a private variable are called setter methods\n",
    " # The methods meant to access private variable values are called getter methods\n",
    " # The below code is an example of getter and setter methods:"
   ]
  },
  {
   "cell_type": "code",
   "execution_count": 11,
   "metadata": {},
   "outputs": [
    {
     "name": "stdout",
     "output_type": "stream",
     "text": [
      "1000000000\n"
     ]
    }
   ],
   "source": [
    "class customer():\n",
    "    def __init__(self,id,name,section,wallet_balance):\n",
    "        self.id=id\n",
    "        self.name=name\n",
    "        self.section=section\n",
    "        self.__wallet_balance=wallet_balance\n",
    "    def setters(self,wallet_balance):\n",
    "        self.__wallet_balance=wallet_balance\n",
    "    def getter(self):\n",
    "        return self.__wallet_balance\n",
    "\n",
    "c1=customer(1,\"rohan\",\"Data Science\",10000000000000000000)\n",
    "c1.setters(1000000000)\n",
    "print(c1.getter())"
   ]
  },
  {
   "cell_type": "code",
   "execution_count": 12,
   "metadata": {},
   "outputs": [],
   "source": [
    "# In the Athlete class given below, \n",
    "\n",
    "# make all the attributes private and\n",
    "# add the necessary accessor and mutator methods\n",
    "# Represent Maria, the runner and make her run."
   ]
  },
  {
   "cell_type": "markdown",
   "metadata": {},
   "source": []
  },
  {
   "cell_type": "code",
   "execution_count": 19,
   "metadata": {},
   "outputs": [
    {
     "name": "stdout",
     "output_type": "stream",
     "text": [
      "maria ,she is girl she should run\n"
     ]
    }
   ],
   "source": [
    "class Athlete():\n",
    "    def __init__(self,name,gender):\n",
    "        self.name=name\n",
    "        self.gender=gender\n",
    "        \n",
    "    def running(self,gender):\n",
    "        if (self.gender==\"girl\"):\n",
    "            print(\"{} ,she is girl she should run\".format(self.name))\n",
    "        else:\n",
    "            print(\"don't run\")\n",
    "a1=Athlete(\"maria\",\"girl\")\n",
    "a1.running(\"maria\")"
   ]
  },
  {
   "cell_type": "code",
   "execution_count": 20,
   "metadata": {},
   "outputs": [
    {
     "name": "stdout",
     "output_type": "stream",
     "text": [
      "120\n"
     ]
    }
   ],
   "source": [
    "class Customer:\n",
    "    def __init__(self, id, name, age, wallet_balance):\n",
    "        self.id = id\n",
    "        self.name = name\n",
    "        self.age = age\n",
    "        self.__wallet_balance = wallet_balance\n",
    "    def set_wallet_balance(self, amount):\n",
    "        if amount < 1000 and amount>  0:\n",
    "            self.__wallet_balance = amount\n",
    "    def get_wallet_balance(self):\n",
    "        return self.__wallet_balance\n",
    "c1=Customer(100, \"Gopal\", 24, 1000)\n",
    "c1.set_wallet_balance(120)\n",
    "print(c1.get_wallet_balance())\n"
   ]
  },
  {
   "cell_type": "code",
   "execution_count": 22,
   "metadata": {},
   "outputs": [],
   "source": [
    "# encapsulation\n",
    "# Encapsulation is preventing access to a data outside the class\n",
    "\n",
    "# Adding a \"__\" in front of a attribute makes it private\n",
    "\n",
    "# In python, adding a __ changes the name of the attribute to _Classname__attribute"
   ]
  },
  {
   "cell_type": "code",
   "execution_count": 26,
   "metadata": {},
   "outputs": [
    {
     "name": "stdout",
     "output_type": "stream",
     "text": [
      "6\n"
     ]
    }
   ],
   "source": [
    "class Example:               #Line1\n",
    "    def __init__(self):      #Line2\n",
    "        self.__num=5         #Line3\n",
    "                             #Line4\n",
    "    def set_num(self,num):   #Line5\n",
    "        self.__num=num       #Line6\n",
    "                             #Line7\n",
    "    def get_num(self):       #Line8\n",
    "        return self.__num    #Line9\n",
    "obj=Example()                #Line10\n",
    "obj.set_num(6)               #Line11\n",
    "print(obj.get_num())"
   ]
  },
  {
   "cell_type": "code",
   "execution_count": 32,
   "metadata": {},
   "outputs": [
    {
     "name": "stdout",
     "output_type": "stream",
     "text": [
      "5\n"
     ]
    }
   ],
   "source": [
    "# What should be written in line 9 to get the output in line 13 as 5?\n",
    "\n",
    "class Example:             #Line1\n",
    "    def __init__(self):    #Line2\n",
    "        self.__num=None    #Line3\n",
    "                           #Line4\n",
    "    def set_num(self,num): #Line5\n",
    "        self.__num=num     #Line6\n",
    "                           #Line7\n",
    "    def change_num(self):\n",
    "        self.__num=5\n",
    "        return self.__num  #Line10\n",
    "obj=Example()              #Line11\n",
    "obj.set_num(10)            #Line12\n",
    "print(obj.change_num())    #Line13\n"
   ]
  },
  {
   "cell_type": "code",
   "execution_count": 39,
   "metadata": {},
   "outputs": [
    {
     "name": "stdout",
     "output_type": "stream",
     "text": [
      "Dam name: ABC dam\n",
      "Dam Length 3.5\n"
     ]
    }
   ],
   "source": [
    "# Jennifer is a python developer who has written the below code:\n",
    "\n",
    "class Dam:\n",
    "    def __init__(self,name, length):\n",
    "        self.name=name\n",
    "        self.__length=length\n",
    "    def get_length(self):\n",
    "        return self.__length\n",
    "\n",
    "dam1=Dam(\"ABC dam\",3.5 )\n",
    "print(\"Dam name:\",dam1.name)\n",
    "print(\"Dam Length\", dam1.get_length())\n",
    "\n",
    "# She desires the output to be: \n",
    "# Dam name: ABC dam\n",
    "# Dam length: 3.5 \n",
    "# but, she is unable to proceed due to an error. Which of the following steps should she follow to get the desired output?\n",
    "# YOU MUST CHOOSE TWO OPTIONS."
   ]
  },
  {
   "cell_type": "code",
   "execution_count": 42,
   "metadata": {},
   "outputs": [
    {
     "name": "stdout",
     "output_type": "stream",
     "text": [
      "20000\n"
     ]
    }
   ],
   "source": [
    "#What is the output of the following code snippet?\n",
    "\n",
    "class Table:\n",
    "    def __init__(self):\n",
    "        self.no_of_legs=4\n",
    "        self.__glass_top=None\n",
    "        self.__wooden_top=None\n",
    "\n",
    "    def assign_data(self,glass_top,wooden_top):\n",
    "        self.__glass_top=glass_top\n",
    "        self.__wooden_top=wooden_top\n",
    "\n",
    "    def identify_rate(self,glass_top,wooden_top):\n",
    "        self.assign_data(glass_top, wooden_top)\n",
    "        if(self.__glass_top==True):\n",
    "            rate=20000\n",
    "        elif(self.__wooden_top==True):\n",
    "            rate=30000\n",
    "        else:\n",
    "            rate=0\n",
    "        return rate\n",
    "dining_table=Table()\n",
    "rate=dining_table.identify_rate(True, False)\n",
    "print(rate)\n",
    " "
   ]
  },
  {
   "cell_type": "code",
   "execution_count": 46,
   "metadata": {},
   "outputs": [],
   "source": [
    "class Instructor:\n",
    "    def __init__(self):\n",
    "        self.__name=None\n",
    "        self.__technology_skill=None\n",
    "        self.__experience=None\n",
    "        self.__avg_feedback=None\n",
    "    \n",
    "    def setter1(self,name):\n",
    "        self.__name=name\n",
    "    def getter(self):\n",
    "        return self.__name\n",
    "    \n",
    "    def setter2(self,technology_skill):\n",
    "        self.__technology_skill=technology_skill\n",
    "    def getter2(self):\n",
    "        return self.__technology_skill\n",
    "    \n",
    "    def setter3(self,experience):\n",
    "        self.__experience=experience\n",
    "    def getter3(self):\n",
    "        return self.__experience\n",
    "    \n",
    "    def setter3(self,avg_feedback):\n",
    "        self.__avg_feedback=avg_feedback\n",
    "    def getter3(self):\n",
    "        return self.__avg_feedback\n",
    "    \n",
    "    def check_eligibility(self):\n",
    "        if self.__experience>3 and self.__avg_feedback>=4.5:\n",
    "            return True\n",
    "        elif self.__experience<=3 and self.__avg_feedback>=4:\n",
    "            return True\n",
    "        else:\n",
    "            return False\n",
    "    def allocate_course(self,technology):\n",
    "        if((technology==self.__technology_skill) or (technology==\"C++\")):\n",
    "            return True\n",
    "        else:\n",
    "            return False "
   ]
  },
  {
   "cell_type": "code",
   "execution_count": 6,
   "metadata": {},
   "outputs": [
    {
     "name": "stdout",
     "output_type": "stream",
     "text": [
      "20\n"
     ]
    }
   ],
   "source": [
    "# What is the output of the following code snippet?\n",
    "\n",
    "class Customer:\n",
    "    def __init__(self, cust_id, age):\n",
    "        self.cust_id = cust_id\n",
    "        self.age = age\n",
    "\n",
    "c1=Customer(100,20)\n",
    "def change(c2):\n",
    "    c2=Customer(100,21)\n",
    "\n",
    "change(c1)\n",
    "print(c1.age)\n",
    " \n",
    "\n"
   ]
  },
  {
   "cell_type": "code",
   "execution_count": 7,
   "metadata": {},
   "outputs": [],
   "source": [
    "# We can store a number of objects inside a list or a dictionary.\n",
    "\n",
    "# The below example, we have a list of mobile objects and we are iterating over the list and printing the values.\n",
    "\n",
    "# Run the below code and observe the output."
   ]
  },
  {
   "cell_type": "code",
   "execution_count": 13,
   "metadata": {},
   "outputs": [
    {
     "name": "stdout",
     "output_type": "stream",
     "text": [
      "Apple 1000\n",
      "Samsung 2000\n",
      "Apple 3000\n",
      "Samsung 4000\n",
      "Apple 5000\n"
     ]
    }
   ],
   "source": [
    "class Mobile:\n",
    "    def __init__(self, brand, price):\n",
    "        self.brand = brand\n",
    "        self.price = price\n",
    "\n",
    "mob1=Mobile(\"Apple\", 1000)\n",
    "mob2=Mobile(\"Samsung\", 2000)\n",
    "mob3=Mobile(\"Apple\", 3000)\n",
    "mob4=Mobile(\"Samsung\", 4000)\n",
    "mob5=Mobile(\"Apple\", 5000)\n",
    "\n",
    "list_of_mobiles=[mob1, mob2, mob3, mob4, mob5]\n",
    "\n",
    "for mobileee in list_of_mobiles:\n",
    "    print (mobileee.brand,mobileee.price)"
   ]
  },
  {
   "cell_type": "code",
   "execution_count": 14,
   "metadata": {},
   "outputs": [],
   "source": [
    "# We can also store objects in a dictionary. For example, in the below code we are storing all the mobile objects in a dictionary and printing only those mobiles whose price is greater than 3000."
   ]
  },
  {
   "cell_type": "code",
   "execution_count": 15,
   "metadata": {},
   "outputs": [
    {
     "name": "stdout",
     "output_type": "stream",
     "text": [
      "Samsung 5000\n"
     ]
    }
   ],
   "source": [
    "class Mobile:\n",
    "    def __init__(self,brand,price):\n",
    "        self.brand = brand\n",
    "        self.price = price\n",
    "\n",
    "mob1=Mobile(\"Apple\", 1000)\n",
    "mob2=Mobile(\"Samsung\", 5000)\n",
    "mob3=Mobile(\"Apple\", 3000)\n",
    "\n",
    "mob_dict={\n",
    "          \"m1\":mob1,\n",
    "          \"m2\":mob2,\n",
    "          \"m3\":mob3\n",
    "          }\n",
    "\n",
    "for key,value in mob_dict.items():\n",
    "    if value.price > 3000:\n",
    "        print (value.brand,value.price)\n"
   ]
  },
  {
   "cell_type": "code",
   "execution_count": 39,
   "metadata": {},
   "outputs": [
    {
     "name": "stdout",
     "output_type": "stream",
     "text": [
      "apple 10000 10000.0\n",
      "apple 10000 5000.0\n",
      "realme 100000 50000.0\n",
      "apple 10000 10000.0\n",
      "realme 100000 100000.0\n"
     ]
    }
   ],
   "source": [
    "class Mobile:\n",
    "    def __init__(self,brand,price):\n",
    "        self.brand=brand\n",
    "        self.price=price\n",
    "        self.discount=0\n",
    "    def purchase(self):\n",
    "        total = self.price - self.price * self.discount / 100\n",
    "        print(self.brand,self.price,total)\n",
    "\n",
    "def enable_discount(list_of_mobiles):\n",
    "    for mobile in list_of_mobiles:\n",
    "        mobile.discount=50\n",
    "def disable_discount(list_of_mobiles):\n",
    "    for mobile in list_of_mobiles:\n",
    "        mobile.discount=0\n",
    "\n",
    "mob1=Mobile(\"apple\",10000)\n",
    "mob2=Mobile(\"realme\",100000)\n",
    "\n",
    "list_of_mobiles=[mob1,mob2]\n",
    "\n",
    "mob1.purchase()\n",
    "\n",
    "enable_discount(list_of_mobiles)\n",
    "mob1.purchase()\n",
    "mob2.purchase()\n",
    "\n",
    "disable_discount(list_of_mobiles)\n",
    "mob1.purchase()\n",
    "mob2.purchase()"
   ]
  },
  {
   "cell_type": "code",
   "execution_count": 40,
   "metadata": {},
   "outputs": [],
   "source": [
    "#shortcut using static"
   ]
  },
  {
   "cell_type": "code",
   "execution_count": 44,
   "metadata": {},
   "outputs": [
    {
     "name": "stdout",
     "output_type": "stream",
     "text": [
      "apple 10000 5000.0\n",
      "realme 100000 50000.0\n"
     ]
    }
   ],
   "source": [
    "class Mobile:\n",
    "    discount=50\n",
    "    def __init__(self,brand,price):\n",
    "        self.brand=brand\n",
    "        self.price=price\n",
    "        \n",
    "    def purchase(self):\n",
    "        total = self.price - self.price * Mobile.discount / 100\n",
    "        print(self.brand,self.price,total)\n",
    "\n",
    "mob1=Mobile(\"apple\",10000)\n",
    "mob2=Mobile(\"realme\",100000)\n",
    "\n",
    "mob1.purchase()\n",
    "\n",
    "mob2.purchase()\n"
   ]
  },
  {
   "cell_type": "code",
   "execution_count": 46,
   "metadata": {},
   "outputs": [],
   "source": [
    "# We can make our static variable as a private variable by adding a double underscore in front of it. We can also create getter and setter methods to access or modify it.\n"
   ]
  },
  {
   "cell_type": "code",
   "execution_count": 48,
   "metadata": {},
   "outputs": [
    {
     "name": "stdout",
     "output_type": "stream",
     "text": [
      "50\n"
     ]
    }
   ],
   "source": [
    "class Mobile:\n",
    "    __discount = 50\n",
    "     \n",
    "    def set_discount(self,discount):\n",
    "        Mobile.__discount = discount\n",
    "        \n",
    "    def get_discount(self):\n",
    "        return Mobile.__discount\n",
    "\n",
    "m1=Mobile()\n",
    "print(m1.get_discount())"
   ]
  },
  {
   "cell_type": "code",
   "execution_count": 49,
   "metadata": {},
   "outputs": [],
   "source": [
    "# Since static variable is object independent, we need a way to access the getter setter methods without an object. This is possible by creating static methods. Static methods are those methods which can be accessed without an object. They are accessed using the class name.\n",
    "\n",
    "# There are two rules in creating such static methods:\n",
    "\n",
    "# The methods should not have self\n",
    "# @staticmethod must be written on top of it"
   ]
  },
  {
   "cell_type": "code",
   "execution_count": 65,
   "metadata": {},
   "outputs": [
    {
     "name": "stdout",
     "output_type": "stream",
     "text": [
      "8000.0\n"
     ]
    },
    {
     "data": {
      "text/plain": [
       "20"
      ]
     },
     "execution_count": 65,
     "metadata": {},
     "output_type": "execute_result"
    }
   ],
   "source": [
    "class Mobile:\n",
    "    __discount=20\n",
    "    def __init__(self,brand,price):\n",
    "        self.brand=brand\n",
    "        self.price=price\n",
    "    def purchase(self):\n",
    "        total=self.price-self.price*Mobile.__discount/100\n",
    "        print(total)\n",
    "    def set_(self,discount):\n",
    "        Mobile.__discount=discount\n",
    "    def get_(self):\n",
    "        return Mobile.__discount\n",
    "\n",
    "mob1=Mobile(\"apple\",10000)\n",
    "mob1.purchase()\n",
    "mob1.get_()"
   ]
  },
  {
   "cell_type": "code",
   "execution_count": 1,
   "metadata": {},
   "outputs": [],
   "source": [
    "# counter in oops"
   ]
  },
  {
   "cell_type": "code",
   "execution_count": 15,
   "metadata": {},
   "outputs": [
    {
     "name": "stdout",
     "output_type": "stream",
     "text": [
      "1 20000.0\n",
      "2 20000.0\n",
      "3 20000.0\n",
      "4 20000.0\n"
     ]
    }
   ],
   "source": [
    "class counter:\n",
    "    counter=1\n",
    "    disc=50\n",
    "    def __init__(self,brand,price):\n",
    "        self.brand=brand\n",
    "        self.price=price\n",
    "        self.id=counter.counter\n",
    "        counter.counter+=1\n",
    "    def purchase(self):\n",
    "        total=self.price-self.price*counter.disc/100\n",
    "        print(self.id,total)\n",
    "mob1=counter(\"apple\",40000)\n",
    "mob2=counter(\"apple\",40000)\n",
    "mob3=counter(\"apple\",40000)\n",
    "mob4=counter(\"apple\",40000)\n",
    "mob1.purchase()\n",
    "mob2.purchase()\n",
    "mob3.purchase()\n",
    "mob4.purchase()"
   ]
  },
  {
   "cell_type": "code",
   "execution_count": 16,
   "metadata": {},
   "outputs": [
    {
     "name": "stdout",
     "output_type": "stream",
     "text": [
      "Water source of lions: well in the circus\n",
      "Simba drinks water from the well in the circus\n"
     ]
    }
   ],
   "source": [
    "# What is the output of the following code snippet?\n",
    "\n",
    "class Lion:\n",
    "    __water_source=\"well in the circus\"\n",
    "\n",
    "    def __init__(self,name, gender):\n",
    "        self.__name=name\n",
    "        self.__gender=gender\n",
    "\n",
    "    def drinks_water(self):\n",
    "        print(self.__name,\n",
    "        \"drinks water from the\",Lion.__water_source)\n",
    "\n",
    "    @staticmethod\n",
    "    def get_water_source():\n",
    "        return Lion.__water_source\n",
    "\n",
    "print( \"Water source of lions:\",Lion.get_water_source())\n",
    "simba=Lion(\"Simba\",\"Male\")\n",
    "simba.drinks_water()"
   ]
  },
  {
   "cell_type": "code",
   "execution_count": 18,
   "metadata": {},
   "outputs": [
    {
     "name": "stdout",
     "output_type": "stream",
     "text": [
      "3000\n"
     ]
    }
   ],
   "source": [
    "class Example:\n",
    "    num=10\n",
    "    @staticmethod\n",
    "    def add(num1,num2):\n",
    "        result=(num1+num2)*Example.num\n",
    "        return result\n",
    "a=Example()\n",
    "print(a.add(100, 200))\n",
    " "
   ]
  },
  {
   "cell_type": "code",
   "execution_count": 26,
   "metadata": {},
   "outputs": [
    {
     "name": "stdout",
     "output_type": "stream",
     "text": [
      "A 10\n"
     ]
    }
   ],
   "source": [
    "class Demo:\n",
    "    num=5\n",
    "    def __init__(self,status):\n",
    "        num=10\n",
    "        print(status,num)\n",
    "d=Demo('A')\n"
   ]
  },
  {
   "cell_type": "code",
   "execution_count": 31,
   "metadata": {},
   "outputs": [
    {
     "name": "stdout",
     "output_type": "stream",
     "text": [
      "19\n",
      "2\n",
      "19\n",
      "2\n"
     ]
    }
   ],
   "source": [
    "class ClassA:\n",
    "    __var1=20\n",
    "    def __init__(self,var2):\n",
    "        self.__var2 = var2\n",
    "\n",
    "    def method1(self):\n",
    "        self.__var2=self.__var2+1\n",
    "        ClassA.__var1 = ClassA.__var1 -1\n",
    "\n",
    "    def method2(self):\n",
    "        print(ClassA.__var1)\n",
    "        print(self.__var2)\n",
    "obj1=ClassA(1)\n",
    "obj1.method1()\n",
    "obj1.method2()\n",
    "obj2=ClassA(2)\n",
    "obj2.method2()\n"
   ]
  },
  {
   "cell_type": "code",
   "execution_count": 36,
   "metadata": {},
   "outputs": [
    {
     "ename": "TypeError",
     "evalue": "display() missing 1 required positional argument: 'self'",
     "output_type": "error",
     "traceback": [
      "\u001b[1;31m---------------------------------------------------------------------------\u001b[0m",
      "\u001b[1;31mTypeError\u001b[0m                                 Traceback (most recent call last)",
      "\u001b[1;32m<ipython-input-36-69fe6c5acf4b>\u001b[0m in \u001b[0;36m<module>\u001b[1;34m\u001b[0m\n\u001b[0;32m      7\u001b[0m         \u001b[0mprint\u001b[0m\u001b[1;33m(\u001b[0m\u001b[0mself\u001b[0m\u001b[1;33m.\u001b[0m\u001b[0m__num\u001b[0m\u001b[1;33m)\u001b[0m\u001b[1;33m\u001b[0m\u001b[1;33m\u001b[0m\u001b[0m\n\u001b[0;32m      8\u001b[0m \u001b[0mobj\u001b[0m\u001b[1;33m=\u001b[0m\u001b[0mExample\u001b[0m\u001b[1;33m\u001b[0m\u001b[1;33m\u001b[0m\u001b[0m\n\u001b[1;32m----> 9\u001b[1;33m \u001b[0mobj\u001b[0m\u001b[1;33m.\u001b[0m\u001b[0mdisplay\u001b[0m\u001b[1;33m(\u001b[0m\u001b[1;33m)\u001b[0m\u001b[1;33m\u001b[0m\u001b[1;33m\u001b[0m\u001b[0m\n\u001b[0m",
      "\u001b[1;31mTypeError\u001b[0m: display() missing 1 required positional argument: 'self'"
     ]
    }
   ],
   "source": [
    "class Example:\n",
    "    def __init__(self):\n",
    "        self.__num=10\n",
    "    @staticmethod\n",
    "    def display(self):\n",
    "        self.__num+=1\n",
    "        print(self.__num)\n",
    "obj=Example()\n",
    "obj.display()"
   ]
  },
  {
   "cell_type": "code",
   "execution_count": 64,
   "metadata": {},
   "outputs": [],
   "source": [
    "#lex_auth_012748317267525632347\n",
    "#Start writing your code here\n",
    "class Ticket:\n",
    "    counter=0\n",
    "    def __init__(self,passenger_name,source,destination):\n",
    "        self.__passsenger_name=passenger_name\n",
    "        self.__ticket_id=None\n",
    "        self.__source=source\n",
    "        self.__destination=destination\n",
    "        self.counter=Ticket.counter\n",
    "        Ticket.counter+=1\n",
    "        \n",
    "    def validate_souce_destination(self):\n",
    "        if (self.__source==\"Delhi\" and self.__destination==\"Pune\" or self.__destination==\"Kolkata\" or self.__destination==\"Mumbai\" or self.__destination==\"Chennai\"):\n",
    "            return True\n",
    "        else:\n",
    "            return False\n",
    "            \n",
    "    def generate_ticket(self):\n",
    "        if True:\n",
    "            __ticket_id=self.__source[0]+self.__destination[0]+\"0\"+str(self.counter)\n",
    "            print(\"ticket id is \",__ticket_id)\n",
    "        else:\n",
    "            return None\n",
    "            \n",
    "    def get_ticket_id(self):\n",
    "        return self.__ticket_id\n",
    "        \n",
    "    def get_passenger_name(self):\n",
    "        return self.__passsenger_name\n",
    "        \n",
    "    def get_source(self):\n",
    "        if self.__source==\"Delhi\":\n",
    "            return self.__source\n",
    "        else:\n",
    "            print(\"wrong details\")\n",
    "            \n",
    "    def get_destination(self):\n",
    "        if self.__destination==\"Kolkata\":\n",
    "            return self.__destination\n",
    "        elif self.__destination==\"Mumbai\":\n",
    "            return self.__destination\n",
    "        elif self.__destination==\"Chennai\":\n",
    "            return self.__destination\n",
    "        elif self.__destination==\"Pune\":\n",
    "            return self.__destination\n",
    "        else:\n",
    "            print(\"plz enter correct destination address\")\n",
    "\n",
    "O1=Ticket(\"rohan\",\"Delhi\",\"Kolkata\")\n",
    "O1.get_source()\n",
    "O1.get_ticket_id()\n",
    "        "
   ]
  },
  {
   "cell_type": "code",
   "execution_count": 65,
   "metadata": {},
   "outputs": [],
   "source": [
    "class Bill:\n",
    "    def __init__(self,bill_id,patient_name):\n",
    "        self.__bill_id=bill_id\n",
    "        self.__patient_name=patient_name\n",
    "        self.__bill_amount=None\n",
    "          \n",
    "    def get_bill_id(self):\n",
    "        return self.__bill_id\n",
    "    def get_patient_name(self):\n",
    "        return self.__patient_name\n",
    "    def get_bill_amount(self):\n",
    "        return self.__bill_amount\n",
    "        \n",
    "    def calculate_bill_amount(self,consultation_fees, quantity_list, price_list):\n",
    "        total=0\n",
    "        for i,x in enumerate(quantity_list):\n",
    "            total=quantity_list[i]*price_list[i]+total\n",
    "            \n",
    "        self.__bill_amount=consultation_fees+total\n",
    "\n",
    "        \n",
    "        \n",
    "        \n",
    " "
   ]
  },
  {
   "cell_type": "code",
   "execution_count": 1,
   "metadata": {},
   "outputs": [],
   "source": [
    "class Customer:\n",
    "    def __init__(self,name,age,phone_no):\n",
    "        self.__name=name\n",
    "        self.__age=age\n",
    "        self.__phone_no=phone_no\n",
    "    def view_detail(self):\n",
    "        print()"
   ]
  },
  {
   "cell_type": "code",
   "execution_count": 18,
   "metadata": {},
   "outputs": [
    {
     "name": "stdout",
     "output_type": "stream",
     "text": [
      "rohan 9886600475\n",
      "575654 badagupete\n"
     ]
    }
   ],
   "source": [
    "class customer:\n",
    "    def __init__(self,name,ph_no,adress):\n",
    "        self.name=name\n",
    "        self.ph_no=ph_no\n",
    "        self.adress=adress\n",
    "        \n",
    "    def view_det(self):\n",
    "        print(self.name,self.ph_no)\n",
    "        print(self.adress.pincode,self.adress.lane)\n",
    "        \n",
    "    def update_det(self,add):\n",
    "        self.adress=add\n",
    "        \n",
    "class address:\n",
    "    def __init__(self,pincode,lane):\n",
    "        self.pincode=pincode\n",
    "        self.lane=lane\n",
    "        \n",
    "    def upd_details(self,add):\n",
    "        pass\n",
    "\n",
    "add1=address(576101,\"kalsanka\")\n",
    "add2=address(575654,\"badagupete\")\n",
    "cust1=customer(\"rohan\",9886600475,add2)\n",
    "cust1.view_det()"
   ]
  },
  {
   "cell_type": "code",
   "execution_count": 33,
   "metadata": {},
   "outputs": [
    {
     "name": "stdout",
     "output_type": "stream",
     "text": [
      "rohan 9886600475\n"
     ]
    },
    {
     "ename": "AttributeError",
     "evalue": "'address' object has no attribute '_customer__pincode'",
     "output_type": "error",
     "traceback": [
      "\u001b[1;31m---------------------------------------------------------------------------\u001b[0m",
      "\u001b[1;31mAttributeError\u001b[0m                            Traceback (most recent call last)",
      "\u001b[1;32m<ipython-input-33-57976bfbc6a6>\u001b[0m in \u001b[0;36m<module>\u001b[1;34m\u001b[0m\n\u001b[0;32m     23\u001b[0m \u001b[0madd1\u001b[0m\u001b[1;33m=\u001b[0m\u001b[0maddress\u001b[0m\u001b[1;33m(\u001b[0m\u001b[1;36m56101\u001b[0m\u001b[1;33m,\u001b[0m\u001b[1;34m\"kalsanka\"\u001b[0m\u001b[1;33m)\u001b[0m\u001b[1;33m\u001b[0m\u001b[1;33m\u001b[0m\u001b[0m\n\u001b[0;32m     24\u001b[0m \u001b[0mcust1\u001b[0m\u001b[1;33m=\u001b[0m\u001b[0mcustomer\u001b[0m\u001b[1;33m(\u001b[0m\u001b[1;34m\"rohan\"\u001b[0m\u001b[1;33m,\u001b[0m\u001b[1;36m9886600475\u001b[0m\u001b[1;33m,\u001b[0m\u001b[0madd1\u001b[0m\u001b[1;33m)\u001b[0m\u001b[1;33m\u001b[0m\u001b[1;33m\u001b[0m\u001b[0m\n\u001b[1;32m---> 25\u001b[1;33m \u001b[0mcust1\u001b[0m\u001b[1;33m.\u001b[0m\u001b[0mview_det\u001b[0m\u001b[1;33m(\u001b[0m\u001b[1;33m)\u001b[0m\u001b[1;33m\u001b[0m\u001b[1;33m\u001b[0m\u001b[0m\n\u001b[0m",
      "\u001b[1;32m<ipython-input-33-57976bfbc6a6>\u001b[0m in \u001b[0;36mview_det\u001b[1;34m(self)\u001b[0m\n\u001b[0;32m      8\u001b[0m     \u001b[1;32mdef\u001b[0m \u001b[0mview_det\u001b[0m\u001b[1;33m(\u001b[0m\u001b[0mself\u001b[0m\u001b[1;33m)\u001b[0m\u001b[1;33m:\u001b[0m\u001b[1;33m\u001b[0m\u001b[1;33m\u001b[0m\u001b[0m\n\u001b[0;32m      9\u001b[0m         \u001b[0mprint\u001b[0m\u001b[1;33m(\u001b[0m\u001b[0mself\u001b[0m\u001b[1;33m.\u001b[0m\u001b[0mname\u001b[0m\u001b[1;33m,\u001b[0m\u001b[0mself\u001b[0m\u001b[1;33m.\u001b[0m\u001b[0mph_no\u001b[0m\u001b[1;33m)\u001b[0m\u001b[1;33m\u001b[0m\u001b[1;33m\u001b[0m\u001b[0m\n\u001b[1;32m---> 10\u001b[1;33m         \u001b[0mprint\u001b[0m\u001b[1;33m(\u001b[0m\u001b[0mself\u001b[0m\u001b[1;33m.\u001b[0m\u001b[0madress\u001b[0m\u001b[1;33m.\u001b[0m\u001b[0m__pincode\u001b[0m\u001b[1;33m,\u001b[0m\u001b[0mself\u001b[0m\u001b[1;33m.\u001b[0m\u001b[0madress\u001b[0m\u001b[1;33m.\u001b[0m\u001b[0m__lane\u001b[0m\u001b[1;33m)\u001b[0m\u001b[1;33m\u001b[0m\u001b[1;33m\u001b[0m\u001b[0m\n\u001b[0m\u001b[0;32m     11\u001b[0m \u001b[1;33m\u001b[0m\u001b[0m\n\u001b[0;32m     12\u001b[0m     \u001b[1;32mdef\u001b[0m \u001b[0mupdate_det\u001b[0m\u001b[1;33m(\u001b[0m\u001b[0mself\u001b[0m\u001b[1;33m,\u001b[0m\u001b[0madd\u001b[0m\u001b[1;33m)\u001b[0m\u001b[1;33m:\u001b[0m\u001b[1;33m\u001b[0m\u001b[1;33m\u001b[0m\u001b[0m\n",
      "\u001b[1;31mAttributeError\u001b[0m: 'address' object has no attribute '_customer__pincode'"
     ]
    }
   ],
   "source": [
    "#encapsulating adress\n",
    "class customer:\n",
    "    def __init__(self,name,ph_no,adress):\n",
    "        self.name=name\n",
    "        self.ph_no=ph_no\n",
    "        self.adress=adress\n",
    "        \n",
    "    def view_det(self):\n",
    "        print(self.name,self.ph_no)\n",
    "        print(self.adress.__pincode,self.adress.__lane)\n",
    "        \n",
    "    def update_det(self,add):\n",
    "        self.adress=add\n",
    "        \n",
    "class address:\n",
    "    def __init__(self,pincode,lane):\n",
    "        self.__pincode=pincode\n",
    "        self.__lane=lane\n",
    "        \n",
    "    def upd_details(self,add):\n",
    "        pass\n",
    "\n",
    "add1=address(56101,\"kalsanka\")\n",
    "cust1=customer(\"rohan\",9886600475,add1)\n",
    "cust1.view_det()"
   ]
  },
  {
   "cell_type": "code",
   "execution_count": 35,
   "metadata": {},
   "outputs": [
    {
     "name": "stdout",
     "output_type": "stream",
     "text": [
      "Jack 24 1234\n"
     ]
    },
    {
     "ename": "AttributeError",
     "evalue": "'Address' object has no attribute '_Customer__door_no'",
     "output_type": "error",
     "traceback": [
      "\u001b[1;31m---------------------------------------------------------------------------\u001b[0m",
      "\u001b[1;31mAttributeError\u001b[0m                            Traceback (most recent call last)",
      "\u001b[1;32m<ipython-input-35-f72eb30aa883>\u001b[0m in \u001b[0;36m<module>\u001b[1;34m\u001b[0m\n\u001b[0;32m     22\u001b[0m \u001b[0mcus1\u001b[0m\u001b[1;33m=\u001b[0m\u001b[0mCustomer\u001b[0m\u001b[1;33m(\u001b[0m\u001b[1;34m\"Jack\"\u001b[0m\u001b[1;33m,\u001b[0m \u001b[1;36m24\u001b[0m\u001b[1;33m,\u001b[0m \u001b[1;36m1234\u001b[0m\u001b[1;33m,\u001b[0m \u001b[0madd1\u001b[0m\u001b[1;33m)\u001b[0m\u001b[1;33m\u001b[0m\u001b[1;33m\u001b[0m\u001b[0m\n\u001b[0;32m     23\u001b[0m \u001b[1;33m\u001b[0m\u001b[0m\n\u001b[1;32m---> 24\u001b[1;33m \u001b[0mcus1\u001b[0m\u001b[1;33m.\u001b[0m\u001b[0mview_details\u001b[0m\u001b[1;33m(\u001b[0m\u001b[1;33m)\u001b[0m\u001b[1;33m\u001b[0m\u001b[1;33m\u001b[0m\u001b[0m\n\u001b[0m\u001b[0;32m     25\u001b[0m \u001b[1;33m\u001b[0m\u001b[0m\n\u001b[0;32m     26\u001b[0m \u001b[1;31m#private variables cannot be accessed\u001b[0m\u001b[1;33m\u001b[0m\u001b[1;33m\u001b[0m\u001b[1;33m\u001b[0m\u001b[0m\n",
      "\u001b[1;32m<ipython-input-35-f72eb30aa883>\u001b[0m in \u001b[0;36mview_details\u001b[1;34m(self)\u001b[0m\n\u001b[0;32m      8\u001b[0m     \u001b[1;32mdef\u001b[0m \u001b[0mview_details\u001b[0m\u001b[1;33m(\u001b[0m\u001b[0mself\u001b[0m\u001b[1;33m)\u001b[0m\u001b[1;33m:\u001b[0m\u001b[1;33m\u001b[0m\u001b[1;33m\u001b[0m\u001b[0m\n\u001b[0;32m      9\u001b[0m         \u001b[0mprint\u001b[0m \u001b[1;33m(\u001b[0m\u001b[0mself\u001b[0m\u001b[1;33m.\u001b[0m\u001b[0mname\u001b[0m\u001b[1;33m,\u001b[0m \u001b[0mself\u001b[0m\u001b[1;33m.\u001b[0m\u001b[0mage\u001b[0m\u001b[1;33m,\u001b[0m \u001b[0mself\u001b[0m\u001b[1;33m.\u001b[0m\u001b[0mphone_no\u001b[0m\u001b[1;33m)\u001b[0m\u001b[1;33m\u001b[0m\u001b[1;33m\u001b[0m\u001b[0m\n\u001b[1;32m---> 10\u001b[1;33m         \u001b[0mprint\u001b[0m \u001b[1;33m(\u001b[0m\u001b[0mself\u001b[0m\u001b[1;33m.\u001b[0m\u001b[0maddress\u001b[0m\u001b[1;33m.\u001b[0m\u001b[0m__door_no\u001b[0m\u001b[1;33m,\u001b[0m \u001b[0mself\u001b[0m\u001b[1;33m.\u001b[0m\u001b[0maddress\u001b[0m\u001b[1;33m.\u001b[0m\u001b[0m__street\u001b[0m\u001b[1;33m,\u001b[0m \u001b[0mself\u001b[0m\u001b[1;33m.\u001b[0m\u001b[0maddress\u001b[0m\u001b[1;33m.\u001b[0m\u001b[0m__pincode\u001b[0m\u001b[1;33m)\u001b[0m\u001b[1;33m\u001b[0m\u001b[1;33m\u001b[0m\u001b[0m\n\u001b[0m\u001b[0;32m     11\u001b[0m \u001b[1;33m\u001b[0m\u001b[0m\n\u001b[0;32m     12\u001b[0m \u001b[1;32mclass\u001b[0m \u001b[0mAddress\u001b[0m\u001b[1;33m:\u001b[0m\u001b[1;33m\u001b[0m\u001b[1;33m\u001b[0m\u001b[0m\n",
      "\u001b[1;31mAttributeError\u001b[0m: 'Address' object has no attribute '_Customer__door_no'"
     ]
    }
   ],
   "source": [
    "class Customer:\n",
    "    def __init__(self, name, age, phone_no, address):\n",
    "        self.name = name\n",
    "        self.age = age\n",
    "        self.phone_no = phone_no\n",
    "        self.address = address\n",
    "\n",
    "    def view_details(self):\n",
    "        print (self.name, self.age, self.phone_no)    \n",
    "        print (self.address.__door_no, self.address.__street, self.address.__pincode)\n",
    "\n",
    "class Address:\n",
    "    def __init__(self, door_no, street, pincode):\n",
    "        self.__door_no = door_no\n",
    "        self.__street = street\n",
    "        self.__pincode = pincode\n",
    "\n",
    "\n",
    "    def update_address(self):\n",
    "        pass\n",
    "add1=Address(123, \"5th Lane\", 56001)\n",
    "cus1=Customer(\"Jack\", 24, 1234, add1)\n",
    "\n",
    "cus1.view_details()\n",
    "\n",
    "#private variables cannot be accessed "
   ]
  },
  {
   "cell_type": "code",
   "execution_count": 36,
   "metadata": {},
   "outputs": [],
   "source": [
    "# Once we have appropriate accessor and mutator methods we can start accessing the private variables of the aggregated class using those methods."
   ]
  },
  {
   "cell_type": "code",
   "execution_count": 44,
   "metadata": {},
   "outputs": [
    {
     "name": "stdout",
     "output_type": "stream",
     "text": [
      "rohan 19 9886600475\n",
      "562112 bangalore\n"
     ]
    }
   ],
   "source": [
    "class Customer:\n",
    "    def __init__(self,name,age,ph_no,adress):\n",
    "        self.name=name\n",
    "        self.age=age\n",
    "        self.ph_no=ph_no\n",
    "        self.adress=adress\n",
    "        \n",
    "    def view_details(self):\n",
    "        print(self.name,self.age,self.ph_no)\n",
    "        print(self.adress.get_pincode(),self.adress.get_lane())\n",
    "\n",
    "class Address:\n",
    "    def __init__(self,pincode,lane):\n",
    "        self.__pincode=pincode\n",
    "        self.__lane=lane\n",
    "        \n",
    "    def update_det(self):\n",
    "        pass\n",
    "\n",
    "        \n",
    "    def update_details(self,add):\n",
    "        self.adress=add\n",
    "    \n",
    "    def set_pincode(self,val):\n",
    "        self.__pincode=val\n",
    "    def set_lane(self,val):\n",
    "        self.__lane=val\n",
    "    \n",
    "    def get_pincode(self):\n",
    "        return self.__pincode\n",
    "    \n",
    "    def get_lane(self):\n",
    "        return self.__lane\n",
    "    \n",
    "    \n",
    "add1=Address(562112,\"bangalore\")\n",
    "cust1=Customer(\"rohan\",19,9886600475,add1)\n",
    "cust1.view_details()\n",
    "        "
   ]
  },
  {
   "cell_type": "code",
   "execution_count": 45,
   "metadata": {},
   "outputs": [],
   "source": [
    "# Sometimes a class may depend on another class for some of its use. This is not a strict relationship and hence won’t appear in the class diagram. For example, in the below code, the Customer class depends on a payment object for purchasing. Here payment is a local variable and not an attribute."
   ]
  },
  {
   "cell_type": "code",
   "execution_count": 67,
   "metadata": {},
   "outputs": [
    {
     "name": "stdout",
     "output_type": "stream",
     "text": [
      "wallet payment\n"
     ]
    }
   ],
   "source": [
    "class customer:\n",
    "    def __init__(self,name,age):\n",
    "        self.name=name\n",
    "        self.age=age\n",
    "    def payment(self,payemnt):\n",
    "        if payment.type_==\"card\":\n",
    "            print(\"card payment\")\n",
    "        elif payment.type_==\"ewallet\":\n",
    "            print(\"wallet payment\")\n",
    "        else:\n",
    "            print(\"cash payment\")\n",
    "            \n",
    "class Payment:\n",
    "    def __init__(self,type_):\n",
    "        self.type_=type_\n",
    "cust1=customer(\"rohan\",20)\n",
    "payment=Payment(\"ewallet\")\n",
    "cust1.payment(payment)"
   ]
  },
  {
   "cell_type": "code",
   "execution_count": 69,
   "metadata": {},
   "outputs": [
    {
     "name": "stdout",
     "output_type": "stream",
     "text": [
      "500\n"
     ]
    }
   ],
   "source": [
    "class Customer:\n",
    "    def __init__(self, name,cust_type,bill):\n",
    "        self.name = name\n",
    "        self.bill = bill\n",
    "        self.cust_type=cust_type\n",
    "    def calulate_bill(self):\n",
    "        tax1=Tax(self.cust_type)\n",
    "        final_bill=self.bill*tax1.tax_details(self.cust_type)\n",
    "        return final_bill\n",
    "class Tax:\n",
    "    def __init__(self,cust_type):\n",
    "        self.cust_type=cust_type\n",
    "    def tax_details(self,cust_type):\n",
    "        if(cust_type==\"Student\"):\n",
    "            return 5\n",
    "        else:\n",
    "            return 10\n",
    "cust1=Customer(\"Maddy\",\"Student\",100)\n",
    "print(cust1.calulate_bill())"
   ]
  },
  {
   "cell_type": "code",
   "execution_count": 88,
   "metadata": {},
   "outputs": [
    {
     "name": "stdout",
     "output_type": "stream",
     "text": [
      "calling 101012\n"
     ]
    }
   ],
   "source": [
    "#static oops\n",
    "\n",
    "class Helpline:\n",
    "    helpline=101012\n",
    "class customer:\n",
    "    def call_support(self):\n",
    "        print(\"calling\",Helpline.helpline)\n",
    "customer=customer()\n",
    "customer.call_support()"
   ]
  },
  {
   "cell_type": "code",
   "execution_count": 93,
   "metadata": {},
   "outputs": [
    {
     "ename": "AttributeError",
     "evalue": "'Cover' object has no attribute 'color'",
     "output_type": "error",
     "traceback": [
      "\u001b[1;31m---------------------------------------------------------------------------\u001b[0m",
      "\u001b[1;31mAttributeError\u001b[0m                            Traceback (most recent call last)",
      "\u001b[1;32m<ipython-input-93-5160c4071c74>\u001b[0m in \u001b[0;36m<module>\u001b[1;34m\u001b[0m\n\u001b[0;32m     11\u001b[0m     \u001b[1;32mdef\u001b[0m \u001b[0m__init__\u001b[0m\u001b[1;33m(\u001b[0m\u001b[0mself\u001b[0m\u001b[1;33m)\u001b[0m\u001b[1;33m:\u001b[0m\u001b[1;33m\u001b[0m\u001b[1;33m\u001b[0m\u001b[0m\n\u001b[0;32m     12\u001b[0m         \u001b[0mself\u001b[0m\u001b[1;33m.\u001b[0m\u001b[0m__color\u001b[0m\u001b[1;33m=\u001b[0m\u001b[1;34m\"red\"\u001b[0m\u001b[1;33m\u001b[0m\u001b[1;33m\u001b[0m\u001b[0m\n\u001b[1;32m---> 13\u001b[1;33m \u001b[0mCustomer\u001b[0m\u001b[1;33m(\u001b[0m\u001b[1;34m\"Cus1\"\u001b[0m\u001b[1;33m,\u001b[0m\u001b[0mMobile\u001b[0m\u001b[1;33m(\u001b[0m\u001b[1;34m\"Apple\"\u001b[0m\u001b[1;33m)\u001b[0m\u001b[1;33m)\u001b[0m\u001b[1;33m.\u001b[0m\u001b[0mmobile\u001b[0m\u001b[1;33m.\u001b[0m\u001b[0munlock\u001b[0m\u001b[1;33m(\u001b[0m\u001b[0mCover\u001b[0m\u001b[1;33m(\u001b[0m\u001b[1;33m)\u001b[0m\u001b[1;33m)\u001b[0m\u001b[1;33m\u001b[0m\u001b[1;33m\u001b[0m\u001b[0m\n\u001b[0m",
      "\u001b[1;32m<ipython-input-93-5160c4071c74>\u001b[0m in \u001b[0;36munlock\u001b[1;34m(self, cover)\u001b[0m\n\u001b[0;32m      7\u001b[0m         \u001b[0mself\u001b[0m\u001b[1;33m.\u001b[0m\u001b[0mbrand\u001b[0m\u001b[1;33m=\u001b[0m\u001b[0mbrand\u001b[0m\u001b[1;33m\u001b[0m\u001b[1;33m\u001b[0m\u001b[0m\n\u001b[0;32m      8\u001b[0m     \u001b[1;32mdef\u001b[0m \u001b[0munlock\u001b[0m\u001b[1;33m(\u001b[0m\u001b[0mself\u001b[0m\u001b[1;33m,\u001b[0m\u001b[0mcover\u001b[0m\u001b[1;33m)\u001b[0m\u001b[1;33m:\u001b[0m\u001b[1;33m\u001b[0m\u001b[1;33m\u001b[0m\u001b[0m\n\u001b[1;32m----> 9\u001b[1;33m         \u001b[0mprint\u001b[0m\u001b[1;33m(\u001b[0m\u001b[0mcover\u001b[0m\u001b[1;33m.\u001b[0m\u001b[0mcolor\u001b[0m\u001b[1;33m)\u001b[0m\u001b[1;33m\u001b[0m\u001b[1;33m\u001b[0m\u001b[0m\n\u001b[0m\u001b[0;32m     10\u001b[0m \u001b[1;32mclass\u001b[0m \u001b[0mCover\u001b[0m\u001b[1;33m:\u001b[0m\u001b[1;33m\u001b[0m\u001b[1;33m\u001b[0m\u001b[0m\n\u001b[0;32m     11\u001b[0m     \u001b[1;32mdef\u001b[0m \u001b[0m__init__\u001b[0m\u001b[1;33m(\u001b[0m\u001b[0mself\u001b[0m\u001b[1;33m)\u001b[0m\u001b[1;33m:\u001b[0m\u001b[1;33m\u001b[0m\u001b[1;33m\u001b[0m\u001b[0m\n",
      "\u001b[1;31mAttributeError\u001b[0m: 'Cover' object has no attribute 'color'"
     ]
    }
   ],
   "source": [
    "class Customer:\n",
    "    def __init__(self,name,mobile):\n",
    "        self.name=name\n",
    "        self.mobile=mobile\n",
    "class Mobile:\n",
    "    def __init__(self,brand):\n",
    "        self.brand=brand\n",
    "    def unlock(self,cover):\n",
    "        print(cover.color)\n",
    "class Cover:\n",
    "    def __init__(self):\n",
    "        self.__color=\"red\"\n",
    "Customer(\"Cus1\",Mobile(\"Apple\")).mobile.unlock(Cover())"
   ]
  },
  {
   "cell_type": "code",
   "execution_count": 94,
   "metadata": {},
   "outputs": [
    {
     "name": "stdout",
     "output_type": "stream",
     "text": [
      "red\n"
     ]
    }
   ],
   "source": [
    "# What is the output of the following code snippet?\n",
    "\n",
    "class Customer:\n",
    "    def __init__(self,name,mobile):\n",
    "        self.name=name\n",
    "        self.mobile=mobile\n",
    "class Mobile:\n",
    "    def __init__(self,brand):\n",
    "        self.brand=brand\n",
    "    def unlock(self,cover):\n",
    "        cover.color=\"yellow\"\n",
    "class Cover:\n",
    "    def __init__(self):\n",
    "        self.color=\"red\"\n",
    "Customer(\"Cus1\",Mobile(\"Apple\")).mobile.unlock(Cover())\n",
    "print(Cover().color)\n",
    " "
   ]
  },
  {
   "cell_type": "code",
   "execution_count": 101,
   "metadata": {},
   "outputs": [],
   "source": [
    "# How can we access order id from trade object?\n",
    "# Note: A Trade object has a TradeDetail object.(Aggregation)\n",
    "\n",
    "class Trade:\n",
    "    def __init__(self):\n",
    "        self.__trade_detail = None\n",
    "\n",
    "    def get_trade_detail(self):\n",
    "        return self.__trade_detail\n",
    "\n",
    "    def set_trade_detail(self, value):\n",
    "        self.__trade_detail = value\n",
    "\n",
    "class TradeDetail:\n",
    "    def __init__(self):\n",
    "        self.__trade_id = None\n",
    "        self.__order_id = None\n",
    "\n",
    "    def get_trade_id(self):\n",
    "        return self.__trade_id\n",
    "\n",
    "    def get_order_id(self):\n",
    "        return self.__order_id\n",
    "\n",
    "    def set_trade_id(self, value):\n",
    "        self.__trade_id = value\n",
    "\n",
    "    def set_order_id(self, value):\n",
    "        self.__order_id = value\n",
    "        \n",
    "tr=Trade()\n",
    "tr.get_trade_detail()\n",
    "tr=TradeDetail()\n",
    "tr.get_order_id()"
   ]
  },
  {
   "cell_type": "code",
   "execution_count": 102,
   "metadata": {},
   "outputs": [
    {
     "name": "stdout",
     "output_type": "stream",
     "text": [
      "Green\n"
     ]
    }
   ],
   "source": [
    "#What is the output of the following code snippet?\n",
    "\n",
    "class Mobile:\n",
    "    def __init__(self,brand,case):\n",
    "        self.brand=brand\n",
    "        self.case=case\n",
    "    def display(self):\n",
    "        print(self.case.color)\n",
    "\n",
    "class Case:\n",
    "    def __init__(self,color):\n",
    "        self.color=color\n",
    "c1=Case(\"Black\")\n",
    "c2=Case(\"White\")\n",
    "m1=Mobile(\"Hony\",c1)\n",
    "c1.color=\"Green\"\n",
    "m1.display()"
   ]
  },
  {
   "cell_type": "code",
   "execution_count": 107,
   "metadata": {},
   "outputs": [
    {
     "data": {
      "text/plain": [
       "7000"
      ]
     },
     "execution_count": 107,
     "metadata": {},
     "output_type": "execute_result"
    }
   ],
   "source": [
    "class Parrot():\n",
    "    __counter=7000\n",
    "    def __init__ (self,name,color):\n",
    "        self.name=name\n",
    "        self.color=color\n",
    "        self.unique_number=Parrot.__counter\n",
    "        Parrot.__counter+=1\n",
    "        \n",
    "    def get_name(self):\n",
    "        return self.name\n",
    "    \n",
    "    def get_color(self):\n",
    "        return self.color\n",
    "        \n",
    "    def get_unique_number(self):\n",
    "        return self.unique_number\n",
    "        \n",
    "obj1=Parrot(\"Sam\",\"Blue\")\n",
    "obj1.get_name()\n",
    "obj1.get_color()\n",
    "obj1.get_unique_number()"
   ]
  },
  {
   "cell_type": "code",
   "execution_count": 1,
   "metadata": {},
   "outputs": [],
   "source": [
    "# lass Description: \n",
    "# Bill class:\n",
    "\n",
    "# Initialize static variable counter to 1000\n",
    "# generate_bill_amount(item_quantity,items): Calculate bill amount based on the items purchased by the customer\n",
    "# Accept a dictionary, item_quantity which contains the item id (key) of the items purchased along with the quantity (value)\n",
    "# Accept a list, items which contains the list of Item objects available in the store\n",
    "# Generate bill id starting from 1001 prefixed by \"B\" and initialize attribute, bill_id. Ex. \"B1001\", \"B1002\" etc.\n",
    "# Calculate bill amount based on the quantity and price of the items purchased by the customer\n",
    "# Set attribute, bill_amount with the calculated bill amount\n",
    "# Assume that values in item_quantity and items are always valid. \n",
    "# Customer class:\n",
    "\n",
    "# pays_bill(bill): Pay bill based on the bill amount\n",
    "\n",
    "# Accept Bill object which contains the details of the bill to be paid by the customer\n",
    "# Update attribute, payment_status to \"Paid\"\n",
    "# Display customer name, bill id and bill amount\n",
    "# Note: Perform case insensitive string comparison\n",
    "\n",
    "# For testing:\n",
    "\n",
    "# Create objects of Customer class, Item class and Bill class\n",
    "# Invoke generate_bill_amount(item_quantity,items) on Bill object by passing the dictionary containing item_id and quantity of items purchased by the Customer and list of Item objects\n",
    "# Invoke pays_bill() on Customer object by passing the Bill object"
   ]
  },
  {
   "cell_type": "code",
   "execution_count": 2,
   "metadata": {},
   "outputs": [],
   "source": [
    "class Customer:\n",
    "    def __init__(self,customer_name):\n",
    "        self.__customer_name=customer_name\n",
    "        self.__payment_status=None\n",
    "        \n",
    "    def get_customer_name(self):\n",
    "        return self.__customer_name\n",
    "    def get_payment_status(self):\n",
    "        return self.__payment_status\n",
    "    \n",
    "    def pays_bill(self,bill):\n",
    "        if self.__bill_id==\"paid\":\n",
    "            print(self.__customer_name,bill.get_bill_id(),bill.get_bill_amount())\n",
    "        else:\n",
    "            return None\n",
    "        \n",
    "class Bill:\n",
    "    counter=1000\n",
    "    def __init__(self):\n",
    "        self.__bill_id=1000\n",
    "        self.__bill_amount=0\n",
    "        self.__counter=Bill.counter\n",
    "        Bill.counter+=1\n",
    "        \n",
    "    \n",
    "    \n",
    "    def get_bill_id(self):\n",
    "        return self.__bill_id\n",
    "    def get_bill_amount(self):\n",
    "        return self.__bill_amount\n",
    "    \n",
    "    def generate_bill_amount(self,item_quantity,items):\n",
    "        self.__bill_amount=0\n",
    "        self.__bill_id='B'+str(Bill.counter)  \n",
    "        tmp_dict=item_quantity  \n",
    "        a={}\n",
    "        for item in tmp_dict:\n",
    "            a[item.lower()]=tmp_dict[item]    \n",
    "        for prod,quan in a.items():\n",
    "            for item in items:\n",
    "                if item.get_item_id().lower()==prod:\n",
    "                    self.__bill_amount+=quan*item.get_price_per_quantity()\n",
    "                    break\n",
    "        \n",
    "        \n",
    "    \n",
    "class Item:\n",
    "    def __init__(self,item_id,description,price_per_quantity):\n",
    "        self.__item_id=item_id\n",
    "        self.__description=description\n",
    "        self.__price_per_quantity=price_per_quantity\n",
    "        \n",
    "    def get_item_id(self):\n",
    "        return self.__item_id\n",
    "    def get_description(self):\n",
    "        return self.__description\n",
    "    def get_price_per_quantity(self):\n",
    "        return self.__price_per_quantity\n",
    "    "
   ]
  },
  {
   "cell_type": "code",
   "execution_count": 19,
   "metadata": {},
   "outputs": [],
   "source": [
    "#lex_auth_012751865474736128227\n",
    "#Start writing your code here\n",
    "class Customer:\n",
    "    def __init__(self,customer_id,customer_name,address):\n",
    "        self.__customer_id=customer_id\n",
    "        self.__customer_name=customer_name\n",
    "        self.__address=address\n",
    "        \n",
    "    def validate_customer_id(self):\n",
    "        if str(self.__customer_id==6) and (str(self.__customer_id))[0]==\"1\":\n",
    "            return True\n",
    "        return False\n",
    "    \n",
    "    def get_customer_id(self):\n",
    "        return self.__customer_id\n",
    "    def get_customer_name(self):\n",
    "        return self.__customer_name\n",
    "    def get_address(self):\n",
    "        return self.__address\n",
    "\n",
    "\n",
    "class Freight:\n",
    "    counter=198\n",
    "    def __init__(self,recipient_customer,from_customer,weight,distance):\n",
    "        self.__freight_id=None\n",
    "        self.__recipient_customer=recipient_customer\n",
    "        self.__from_customer=from_customer\n",
    "        self.__weight=weight\n",
    "        self.__distance=distance\n",
    "        self.__freight_charge=None\n",
    "        \n",
    "    def get_freight_id(self):\n",
    "        return self.__freight_id \n",
    " \n",
    "    def get_recipient_customer(self):\n",
    "        return self.__recipient_customer\n",
    " \n",
    "    def get_from_customer(self):\n",
    "        return self.__from_customer\n",
    " \n",
    "    def get_weight(self):\n",
    "        return self.__weight\n",
    " \n",
    "    def get_distance(self):\n",
    "        return self.__distance\n",
    "        \n",
    "    def get_freight_charge(self):\n",
    "        return self.__freight_charge\n",
    "    \n",
    "    def validate_weight(self):\n",
    "        if self.__weight%5==0:\n",
    "            return True\n",
    "        else:\n",
    "            return False\n",
    "            \n",
    "    def validate_distance(self):\n",
    "        if (self.__distance>=500 and self.__distance<=5000):\n",
    "            return True\n",
    "        else:\n",
    "            return False\n",
    "    def forward_cargo(self):\n",
    "        if self.__from_customer.validate_customer_id() and self.__recipient_customer.validate_customer_id() and self.validate_weight() and self.validate_distance():\n",
    "            Freight.counter+=2\n",
    "            self.__freight_id=Freight.counter\n",
    "            self.__freight_charge=(self.__weight*150)+(self.__distance*60)\n",
    "        else:\n",
    "            self.__freight_charge=0"
   ]
  },
  {
   "cell_type": "code",
   "execution_count": 37,
   "metadata": {},
   "outputs": [
    {
     "name": "stdout",
     "output_type": "stream",
     "text": [
      "dm02\n"
     ]
    }
   ],
   "source": [
    "class Ticket:\n",
    "    counter=0\n",
    "    def __init__(self,passenger_name,source,destination):\n",
    "        self.__passenger_name=passenger_name.lower()\n",
    "        self.__ticket_id=None\n",
    "        self.__source=source.lower()\n",
    "        self.__destination=destination.lower()\n",
    "        self.counter=Ticket.counter\n",
    "        Ticket.counter+=1\n",
    "    def validate_source_destination(self):\n",
    "        if (self.__source==\"delhi\" and (self.__destination==\"mumbai\" or self.__destination==\"kolkata\" or self.__destination==\"pune\" or self.__destination==\"chennai\")):\n",
    "            return True\n",
    "        else:\n",
    "            return False\n",
    "        \n",
    "    def generate_ticket(self):\n",
    "        if (self.__source==\"delhi\" and (self.__destination==\"mumbai\" or self.__destination==\"kolkata\" or self.__destination==\"pune\" or self.__destination==\"chennai\"))== True:\n",
    "            ticketid=self.__source[0]+self.__destination[0]+\"0\"+str(self.counter)\n",
    "            print(ticketid)\n",
    "        else:\n",
    "            return None    \n",
    "    def get_passenger_name(self):\n",
    "        return self.__passenger_name\n",
    "    def get_source(self):\n",
    "        if self.__source==\"delhi\":\n",
    "            return self.__source\n",
    "        else:\n",
    "            return None\n",
    "    def get_destination(self):\n",
    "        if self.__destination==\"pune\":\n",
    "            return self.__destination\n",
    "        elif self.__destination==\"mumbai\":\n",
    "            return self.__destination\n",
    "        elif self.__destination==\"chennai\":\n",
    "            return self.__destination\n",
    "        elif self.__destination==\"kolkata\":\n",
    "            return self.__destination\n",
    "\n",
    "        else:\n",
    "            return None\n",
    "    def get_ticket_id(self):\n",
    "        return self.__ticket_id\n",
    "        \n",
    "ob2=Ticket(\"ram\",\"delhi\",\"mumbai\")\n",
    "ob2=Ticket(\"ram\",\"delhi\",\"mumbai\")\n",
    "ob2=Ticket(\"ram\",\"delhi\",\"mumbai\")\n",
    "ob3=Ticket(\"ram\",\"delhi\",\"mumbai\")\n",
    "ob2.generate_ticket()\n"
   ]
  },
  {
   "cell_type": "code",
   "execution_count": 1,
   "metadata": {},
   "outputs": [],
   "source": [
    "#inhertitace practice questions"
   ]
  },
  {
   "cell_type": "code",
   "execution_count": 3,
   "metadata": {},
   "outputs": [],
   "source": [
    "# Let us look at inheritance in code. For now we will create the Phone class with necessary attributes and methods. We will create FeaturePhone and SmartPhone classes without any attributes or methods now. We will create them later. "
   ]
  },
  {
   "cell_type": "code",
   "execution_count": 10,
   "metadata": {},
   "outputs": [
    {
     "name": "stdout",
     "output_type": "stream",
     "text": [
      "returning a phone\n"
     ]
    }
   ],
   "source": [
    "class phone:\n",
    "    def __init__(self,price,brand,camera):\n",
    "        self.price=price\n",
    "        self.brand=brand\n",
    "        self.camera=camera\n",
    "    def buy(self):\n",
    "        print(\"buying phone\")\n",
    "    def return_phone(self):\n",
    "        print(\"returning a phone\")\n",
    "class iphone:\n",
    "    pass\n",
    "class android:\n",
    "    pass\n",
    "phone=phone(10000,\"nokia 5100\",\"5mp\")\n",
    "phone.return_phone()"
   ]
  },
  {
   "cell_type": "code",
   "execution_count": 14,
   "metadata": {},
   "outputs": [
    {
     "data": {
      "text/plain": [
       "'Apple'"
      ]
     },
     "execution_count": 14,
     "metadata": {},
     "output_type": "execute_result"
    }
   ],
   "source": [
    "class Phone:\n",
    "    def __init__(self, price, brand, camera):\n",
    "        self.price = price\n",
    "        self.brand = brand\n",
    "        self.camera = camera\n",
    "\n",
    "    def buy(self):\n",
    "        print (\"Buying a phone\")\n",
    "\n",
    "    def return_phone(self):\n",
    "        print (\"Returning a phone\")\n",
    "\n",
    "class FeaturePhone(Phone):\n",
    "    pass\n",
    "\n",
    "class SmartPhone(Phone):\n",
    "    pass\n",
    "\n",
    "FeaturePhone=FeaturePhone(10000,\"Apple\",\"13px\")\n",
    "FeaturePhone.brand\n"
   ]
  },
  {
   "cell_type": "code",
   "execution_count": 1,
   "metadata": {},
   "outputs": [],
   "source": [
    "# method overriding \n",
    "# Sometimes a child may not want to use what it has inherited from the parent. The same holds true for OOP as well. If the child class does not want to use a method inherited from the parent class then it may create its own method with the same name.\n",
    "\n",
    "# When the child has a method with the same name as that of the parent, it is said to override the parent’s method. This is called as Method Overriding. Method overriding is also called as Polymorphism."
   ]
  },
  {
   "cell_type": "code",
   "execution_count": 6,
   "metadata": {},
   "outputs": [
    {
     "name": "stdout",
     "output_type": "stream",
     "text": [
      "inside phone constructor\n",
      "buying phone\n"
     ]
    }
   ],
   "source": [
    "class phone:\n",
    "    def __init__(self,brand,price):\n",
    "        self.__price=price\n",
    "        self.brand=brand\n",
    "        print(\"inside phone constructor\")\n",
    "    def buy(self):\n",
    "        print(\"buying phone\")\n",
    "    def return_(self):\n",
    "        print(\"returning a phone\")\n",
    "class android(phone):\n",
    "    pass\n",
    "class iphone(phone):\n",
    "    pass\n",
    "\n",
    "ph=phone(\"apple\",500000)\n",
    "ph.buy()"
   ]
  },
  {
   "cell_type": "code",
   "execution_count": 7,
   "metadata": {},
   "outputs": [
    {
     "name": "stdout",
     "output_type": "stream",
     "text": [
      "100\n",
      "This is in child class\n"
     ]
    }
   ],
   "source": [
    "# What is the output of the following code snippet?\n",
    "\n",
    "class Parent:\n",
    "    def __init__(self,num):\n",
    "        self.__num=num\n",
    "    def get_num(self):\n",
    "        return self.__num\n",
    "class Child(Parent):\n",
    "    def show(self):\n",
    "        print(\"This is in child class\")\n",
    "son=Child(100)\n",
    "print(son.get_num())\n",
    "son.show()"
   ]
  },
  {
   "cell_type": "code",
   "execution_count": 11,
   "metadata": {},
   "outputs": [
    {
     "ename": "AttributeError",
     "evalue": "'Child' object has no attribute '_Parent__num'",
     "output_type": "error",
     "traceback": [
      "\u001b[1;31m---------------------------------------------------------------------------\u001b[0m",
      "\u001b[1;31mAttributeError\u001b[0m                            Traceback (most recent call last)",
      "\u001b[1;32m<ipython-input-11-1b30624a8b3b>\u001b[0m in \u001b[0;36m<module>\u001b[1;34m\u001b[0m\n\u001b[0;32m     13\u001b[0m         \u001b[1;32mreturn\u001b[0m \u001b[0mself\u001b[0m\u001b[1;33m.\u001b[0m\u001b[0m__val\u001b[0m\u001b[1;33m\u001b[0m\u001b[1;33m\u001b[0m\u001b[0m\n\u001b[0;32m     14\u001b[0m \u001b[0mson\u001b[0m\u001b[1;33m=\u001b[0m\u001b[0mChild\u001b[0m\u001b[1;33m(\u001b[0m\u001b[1;36m100\u001b[0m\u001b[1;33m,\u001b[0m\u001b[1;36m10\u001b[0m\u001b[1;33m)\u001b[0m\u001b[1;33m\u001b[0m\u001b[1;33m\u001b[0m\u001b[0m\n\u001b[1;32m---> 15\u001b[1;33m \u001b[0mprint\u001b[0m\u001b[1;33m(\u001b[0m\u001b[1;34m\"Parent: Num:\"\u001b[0m\u001b[1;33m,\u001b[0m\u001b[0mson\u001b[0m\u001b[1;33m.\u001b[0m\u001b[0mget_num\u001b[0m\u001b[1;33m(\u001b[0m\u001b[1;33m)\u001b[0m\u001b[1;33m)\u001b[0m\u001b[1;33m\u001b[0m\u001b[1;33m\u001b[0m\u001b[0m\n\u001b[0m\u001b[0;32m     16\u001b[0m \u001b[0mprint\u001b[0m\u001b[1;33m(\u001b[0m\u001b[1;34m\"Child: Val:\"\u001b[0m\u001b[1;33m,\u001b[0m\u001b[0mson\u001b[0m\u001b[1;33m.\u001b[0m\u001b[0mget_val\u001b[0m\u001b[1;33m(\u001b[0m\u001b[1;33m)\u001b[0m\u001b[1;33m)\u001b[0m\u001b[1;33m\u001b[0m\u001b[1;33m\u001b[0m\u001b[0m\n\u001b[0;32m     17\u001b[0m \u001b[1;33m\u001b[0m\u001b[0m\n",
      "\u001b[1;32m<ipython-input-11-1b30624a8b3b>\u001b[0m in \u001b[0;36mget_num\u001b[1;34m(self)\u001b[0m\n\u001b[0;32m      5\u001b[0m         \u001b[0mself\u001b[0m\u001b[1;33m.\u001b[0m\u001b[0m__num\u001b[0m\u001b[1;33m=\u001b[0m\u001b[0mnum\u001b[0m\u001b[1;33m\u001b[0m\u001b[1;33m\u001b[0m\u001b[0m\n\u001b[0;32m      6\u001b[0m     \u001b[1;32mdef\u001b[0m \u001b[0mget_num\u001b[0m\u001b[1;33m(\u001b[0m\u001b[0mself\u001b[0m\u001b[1;33m)\u001b[0m\u001b[1;33m:\u001b[0m\u001b[1;33m\u001b[0m\u001b[1;33m\u001b[0m\u001b[0m\n\u001b[1;32m----> 7\u001b[1;33m         \u001b[1;32mreturn\u001b[0m \u001b[0mself\u001b[0m\u001b[1;33m.\u001b[0m\u001b[0m__num\u001b[0m\u001b[1;33m\u001b[0m\u001b[1;33m\u001b[0m\u001b[0m\n\u001b[0m\u001b[0;32m      8\u001b[0m \u001b[1;32mclass\u001b[0m \u001b[0mChild\u001b[0m\u001b[1;33m(\u001b[0m\u001b[0mParent\u001b[0m\u001b[1;33m)\u001b[0m\u001b[1;33m:\u001b[0m\u001b[1;33m\u001b[0m\u001b[1;33m\u001b[0m\u001b[0m\n\u001b[0;32m      9\u001b[0m     \u001b[1;32mdef\u001b[0m \u001b[0m__init__\u001b[0m\u001b[1;33m(\u001b[0m\u001b[0mself\u001b[0m\u001b[1;33m,\u001b[0m\u001b[0mval\u001b[0m\u001b[1;33m,\u001b[0m\u001b[0mnum\u001b[0m\u001b[1;33m)\u001b[0m\u001b[1;33m:\u001b[0m\u001b[1;33m\u001b[0m\u001b[1;33m\u001b[0m\u001b[0m\n",
      "\u001b[1;31mAttributeError\u001b[0m: 'Child' object has no attribute '_Parent__num'"
     ]
    }
   ],
   "source": [
    "# What is the output of the following code snippet?\n",
    "\n",
    "class Parent:\n",
    "    def __init__(self,num):\n",
    "        self.__num=num\n",
    "    def get_num(self):\n",
    "        return self.__num\n",
    "class Child(Parent):\n",
    "    def __init__(self,val,num):\n",
    "        self.__val=val\n",
    "        self.__num=num\n",
    "    def get_val(self):\n",
    "        return self.__val\n",
    "son=Child(100,10)\n",
    "print(\"Parent: Num:\",son.get_num())\n",
    "print(\"Child: Val:\",son.get_val())\n",
    " "
   ]
  },
  {
   "cell_type": "code",
   "execution_count": 26,
   "metadata": {},
   "outputs": [
    {
     "name": "stdout",
     "output_type": "stream",
     "text": [
      "class A : 100\n"
     ]
    }
   ],
   "source": [
    "# What will be the output of the code given below?\n",
    "\n",
    "class A:\n",
    "    def __init__(self):\n",
    "        self.var1=100\n",
    "\n",
    "    def display1(self,var1):\n",
    "        print(\"class A :\", self.var1)\n",
    "class B(A):\n",
    "    def display2(self,var1):\n",
    "        print(\"class B :\", self.var1)\n",
    "\n",
    "obj=B()\n",
    "obj.display1(200)"
   ]
  },
  {
   "cell_type": "markdown",
   "metadata": {},
   "source": [
    "SUPER() KEYWORD"
   ]
  },
  {
   "cell_type": "code",
   "execution_count": 27,
   "metadata": {},
   "outputs": [],
   "source": [
    "# Even though the child class may override the methods of the parent class, it might still \n",
    "# decide to use the parent class overridden method. To invoke anything belonging to the parent \n",
    "# class, the child class needs to use the super() function, as shown below:"
   ]
  },
  {
   "cell_type": "code",
   "execution_count": 28,
   "metadata": {},
   "outputs": [
    {
     "name": "stdout",
     "output_type": "stream",
     "text": [
      "Inside phone constructor\n",
      "Buying a smartphone\n",
      "Buying a phone\n"
     ]
    }
   ],
   "source": [
    "class Phone:\n",
    "    def __init__(self, price, brand, camera):\n",
    "        print (\"Inside phone constructor\")\n",
    "        self.__price = price\n",
    "        self.brand = brand\n",
    "        self.camera = camera\n",
    "\n",
    "    def buy(self):\n",
    "        print (\"Buying a phone\")\n",
    "\n",
    "    def return_phone(self):\n",
    "        print (\"Returning a phone\")\n",
    "\n",
    "class FeaturePhone(Phone):\n",
    "    pass\n",
    "\n",
    "class SmartPhone(Phone):\n",
    "    def buy(self):\n",
    "        print (\"Buying a smartphone\")\n",
    "        super().buy()\n",
    "\n",
    "s=SmartPhone(20000, \"Apple\", 13)\n",
    "\n",
    "s.buy()\n"
   ]
  },
  {
   "cell_type": "code",
   "execution_count": 29,
   "metadata": {},
   "outputs": [],
   "source": [
    "# To access the parent class constructor we can use super(). Thus, the data is passed to the child class constructor, from there the data is sent to the parent class constructor and thus the attributes of the parent class get inherited.\n",
    "\n",
    "# super() function can be used to access the constructor or methods of the parent class, but not the attributes. Also super() function can be used only inside a class and not outside it"
   ]
  },
  {
   "cell_type": "code",
   "execution_count": 34,
   "metadata": {},
   "outputs": [
    {
     "data": {
      "text/plain": [
       "'male'"
      ]
     },
     "execution_count": 34,
     "metadata": {},
     "output_type": "execute_result"
    }
   ],
   "source": [
    "class details:\n",
    "    def __init__(self,name,section,usn):\n",
    "        self.name=name\n",
    "        self.section=section\n",
    "        self.usn=usn\n",
    "class detail1(details):\n",
    "    def __init__(self,name,section,usn,blood_grp,sex):\n",
    "        super().__init__(self,name,usn)\n",
    "        self.blood_grp=blood_grp\n",
    "        self.sex=sex\n",
    "detail=detail1(\"rohan\",\"ds\",\"19btrcr011\",\"a+ve\",\"male\")\n",
    "detail.sex"
   ]
  },
  {
   "cell_type": "markdown",
   "metadata": {},
   "source": [
    "A class can inherit from another class.\n",
    "\n",
    "Inheritance improves code reuse\n",
    "\n",
    "Constructor, attributes, methods get inherited to the child class\n",
    "\n",
    "The parent has no access to the child class\n",
    "\n",
    "Private properties of parent are not accessible directly in child class\n",
    "\n",
    "Child class can override the attributes or methods. This is called method overriding\n",
    "\n",
    "super() is an inbuilt function which is used to invoke the parent class methods and constructor"
   ]
  },
  {
   "cell_type": "code",
   "execution_count": 35,
   "metadata": {},
   "outputs": [
    {
     "name": "stdout",
     "output_type": "stream",
     "text": [
      "100\n",
      "200\n"
     ]
    }
   ],
   "source": [
    "# What is the output of the following code snippet?\n",
    "\n",
    "class Parent:\n",
    "    def __init__(self,num):\n",
    "      self.__num=num\n",
    "    def get_num(self):\n",
    "      return self.__num\n",
    "class Child(Parent):\n",
    "    def __init__(self,num,val):\n",
    "      super().__init__(num)\n",
    "      self.__val=val\n",
    "    def get_val(self):\n",
    "      return self.__val\n",
    "son=Child(100,200)\n",
    "print(son.get_num())\n",
    "print(son.get_val())"
   ]
  },
  {
   "cell_type": "code",
   "execution_count": 36,
   "metadata": {},
   "outputs": [
    {
     "name": "stdout",
     "output_type": "stream",
     "text": [
      "100\n",
      "200\n"
     ]
    }
   ],
   "source": [
    "class Parent:\n",
    "    def __init__(self):\n",
    "        self.num=100\n",
    "\n",
    "class Child(Parent):\n",
    "    def __init__(self):\n",
    "        super().__init__()\n",
    "        self.var=200\n",
    "    def show(self):\n",
    "        print(self.num)\n",
    "        print(self.var)\n",
    "\n",
    "son=Child()\n",
    "son.show()"
   ]
  },
  {
   "cell_type": "code",
   "execution_count": 37,
   "metadata": {},
   "outputs": [
    {
     "name": "stdout",
     "output_type": "stream",
     "text": [
      "Parent: 100\n",
      "Child: 10\n"
     ]
    }
   ],
   "source": [
    "# What is the output of the following code snippet?\n",
    "\n",
    "class Parent:\n",
    "    def __init__(self):\n",
    "        self.__num=100\n",
    "\n",
    "    def show(self):\n",
    "        print(\"Parent:\",self.__num)\n",
    "\n",
    "class Child(Parent):\n",
    "    def __init__(self):\n",
    "        super().__init__()\n",
    "        self.__var=10\n",
    "\n",
    "    def show(self):\n",
    "        print(\"Child:\",self.__var)\n",
    "\n",
    "dad=Parent()\n",
    "dad.show()\n",
    "son=Child()\n",
    "son.show()"
   ]
  },
  {
   "cell_type": "code",
   "execution_count": 38,
   "metadata": {},
   "outputs": [
    {
     "name": "stdout",
     "output_type": "stream",
     "text": [
      "Parent: 100\n",
      "Child: 10\n"
     ]
    }
   ],
   "source": [
    "# What should be written in line 14 to get the output as mentioned below?4 min\n",
    "# Parent: 100\n",
    "# Child: 10\n",
    "\n",
    "class Parent:\n",
    "    def __init__(self):\n",
    "        self.__num=100\n",
    "\n",
    "    def show(self):\n",
    "        print(\"Parent:\",self.__num)\n",
    "\n",
    "class Child(Parent):\n",
    "    def __init__(self):\n",
    "        super().__init__()\n",
    "        self.__var=10\n",
    "\n",
    "    def show(self):\n",
    "        super().show()\n",
    "        print(\"Child:\",self.__var)\n",
    "\n",
    "obj=Child()\n",
    "obj.show()\n",
    " "
   ]
  },
  {
   "cell_type": "code",
   "execution_count": 39,
   "metadata": {},
   "outputs": [
    {
     "name": "stdout",
     "output_type": "stream",
     "text": [
      "Normal customer\n",
      "Privileged Customer\n"
     ]
    }
   ],
   "source": [
    "# Q6 of 7\n",
    "# outlined_flag\n",
    "# What is the output of the below code?\n",
    "\n",
    "class Customer:\n",
    "    def __init__(self):\n",
    "        self.__cust_id = None\n",
    "        self.__cust_name = None\n",
    "\n",
    "    def get_cust_id(self):\n",
    "        print(\"Normal customer\")\n",
    "\n",
    "    def get_cust_name(self):\n",
    "        return self.__cust_name\n",
    "\n",
    "    def set_cust_id(self, value):\n",
    "        self.__cust_id = value\n",
    "\n",
    "    def set_cust_name(self, value):\n",
    "        self.__cust_name = value\n",
    "\n",
    "class PrivilegedCustomer(Customer):\n",
    "    def __init__(self):\n",
    "        super().__init__()\n",
    "        self.__overdraft_limit = None\n",
    "\n",
    "    def get_overdraft_limit(self):\n",
    "        return self.__overdraft_limit\n",
    "\n",
    "    def set_overdraft_limit(self, value):\n",
    "        self.__overdraft_limit = value\n",
    "\n",
    "    def get_cust_id(self):\n",
    "        print(\"Privileged Customer\")\n",
    "\n",
    "class RegularCustomer(Customer):\n",
    "    def __init__(self):\n",
    "        super().__init__()\n",
    "        self.__min_balance = None\n",
    "\n",
    "    def get_min_balance(self):\n",
    "        return self.__min_balance\n",
    "\n",
    "    def set_min_balance(self, value):\n",
    "        self.__min_balance = value\n",
    "\n",
    "r=RegularCustomer()\n",
    "p=PrivilegedCustomer()\n",
    "r.get_cust_id()\n",
    "p.get_cust_id()"
   ]
  },
  {
   "cell_type": "code",
   "execution_count": 41,
   "metadata": {},
   "outputs": [],
   "source": [
    "#lex_auth_0127475574441738242319\n",
    "#Start writing your code here\n",
    "class Rider:\n",
    "    def __init__(self,trained_status,experience):\n",
    "        self.__trained_status=trained_status\n",
    "        self.__experience=experience\n",
    "        self.__race_license=None\n",
    "    def rides_vehicle(self):\n",
    "        pass\n",
    "\n",
    "class BikeRider(Rider):\n",
    "    def __init__(self,trained_status,experience,race_license):\n",
    "        self.__trained_status=trained_status\n",
    "        self.__race_license=race_license\n",
    "        self.__experience=experience\n",
    "    def rides_in_dome(self):\n",
    "        pass\n",
    "        \n",
    "class CycleRider(Rider):\n",
    "    def __init__(self,trained_status,experience):\n",
    "        self.__trained_status=trained_status\n",
    "        self.__experience=experience\n",
    "    def rides_blindfolded(self):\n",
    "        pass\n",
    "obj=Rider(True,True)\n"
   ]
  },
  {
   "cell_type": "code",
   "execution_count": 42,
   "metadata": {},
   "outputs": [],
   "source": [
    "# Single inheritance enables a derived class to inherit properties and behavior from a single parent class.\n",
    "\n",
    "# Run the below code and observe the output.\n",
    "\n",
    "#like one parent and one child"
   ]
  },
  {
   "cell_type": "code",
   "execution_count": 43,
   "metadata": {},
   "outputs": [
    {
     "name": "stdout",
     "output_type": "stream",
     "text": [
      "Inside phone constructor\n",
      "Buying a phone\n"
     ]
    }
   ],
   "source": [
    "class Phone:\n",
    "    def __init__(self, price, brand, camera):\n",
    "        print (\"Inside phone constructor\")\n",
    "        self.__price = price\n",
    "        self.brand = brand\n",
    "        self.camera = camera\n",
    "\n",
    "    def buy(self):\n",
    "        print (\"Buying a phone\")\n",
    "\n",
    "    def return_phone(self):\n",
    "        print (\"Returning a phone\")\n",
    "\n",
    "class SmartPhone(Phone):\n",
    "    pass\n",
    "\n",
    "SmartPhone(1000,\"Apple\",\"13px\").buy()\n"
   ]
  },
  {
   "cell_type": "code",
   "execution_count": 46,
   "metadata": {},
   "outputs": [],
   "source": [
    "# If a class is derived from another derived class then it is called multilevel inheritance.\n",
    "\n",
    "# Run the below code and observe the output.\n",
    "\n",
    "#like generation child,parent,grandparent and so on"
   ]
  },
  {
   "cell_type": "code",
   "execution_count": 47,
   "metadata": {},
   "outputs": [
    {
     "name": "stdout",
     "output_type": "stream",
     "text": [
      "Inside phone constructor\n",
      "Buying a phone\n",
      "Product customer review\n"
     ]
    }
   ],
   "source": [
    "class Product:\n",
    "    def review(self):\n",
    "        print (\"Product customer review\")\n",
    "\n",
    "class Phone(Product):\n",
    "    def __init__(self, price, brand, camera):\n",
    "        print (\"Inside phone constructor\")\n",
    "        self.__price = price\n",
    "        self.brand = brand\n",
    "        self.camera = camera\n",
    "\n",
    "    def buy(self):\n",
    "        print (\"Buying a phone\")\n",
    "\n",
    "    def return_phone(self):\n",
    "        print (\"Returning a phone\")\n",
    "\n",
    "class SmartPhone(Phone):\n",
    "    pass\n",
    "\n",
    "s=SmartPhone(20000, \"Apple\", 12)\n",
    "\n",
    "s.buy()\n",
    "s.review()\n"
   ]
  },
  {
   "cell_type": "code",
   "execution_count": 48,
   "metadata": {},
   "outputs": [],
   "source": [
    "# When several classes are derived from common base class it is called hierarchical inheritance.\n",
    "\n",
    "# Run the below code and observe the output.\n",
    "\n",
    "#  one parent many children"
   ]
  },
  {
   "cell_type": "code",
   "execution_count": 49,
   "metadata": {},
   "outputs": [
    {
     "name": "stdout",
     "output_type": "stream",
     "text": [
      "Inside phone constructor\n",
      "Buying a phone\n"
     ]
    }
   ],
   "source": [
    "class Phone:\n",
    "    def __init__(self, price, brand, camera):\n",
    "        print (\"Inside phone constructor\")\n",
    "        self.__price = price\n",
    "        self.brand = brand\n",
    "        self.camera = camera\n",
    "\n",
    "    def buy(self):\n",
    "        print (\"Buying a phone\")\n",
    "\n",
    "    def return_phone(self):\n",
    "        print (\"Returning a phone\")\n",
    "\n",
    "class SmartPhone(Phone):\n",
    "    pass\n",
    "\n",
    "class FeaturePhone(Phone):\n",
    "    pass\n",
    "\n",
    "SmartPhone(1000,\"Apple\",\"13px\").buy()\n"
   ]
  },
  {
   "cell_type": "code",
   "execution_count": 50,
   "metadata": {},
   "outputs": [],
   "source": [
    "# If a class is derived from two or more base classes then it is called multiple inheritance.\n",
    "\n",
    "# Run the below code and observe the output.\n",
    "\n",
    "# one child multiple parents"
   ]
  },
  {
   "cell_type": "code",
   "execution_count": 51,
   "metadata": {},
   "outputs": [
    {
     "name": "stdout",
     "output_type": "stream",
     "text": [
      "Inside phone constructor\n",
      "Buying a phone\n",
      "Customer review\n"
     ]
    }
   ],
   "source": [
    "class Phone:\n",
    "    def __init__(self, price, brand, camera):\n",
    "        print (\"Inside phone constructor\")\n",
    "        self.__price = price\n",
    "        self.brand = brand\n",
    "        self.camera = camera\n",
    "\n",
    "    def buy(self):\n",
    "        print (\"Buying a phone\")\n",
    "\n",
    "    def return_phone(self):\n",
    "        print (\"Returning a phone\")\n",
    "\n",
    "class Product:\n",
    "    def review(self):\n",
    "        print (\"Customer review\")\n",
    "\n",
    "class SmartPhone(Phone, Product):\n",
    "    pass\n",
    "\n",
    "s=SmartPhone(20000, \"Apple\", 12)\n",
    "\n",
    "s.buy()\n",
    "s.review()\n"
   ]
  },
  {
   "cell_type": "code",
   "execution_count": 52,
   "metadata": {},
   "outputs": [
    {
     "name": "stdout",
     "output_type": "stream",
     "text": [
      "70\n"
     ]
    }
   ],
   "source": [
    "# Q1 of 2\n",
    "# outlined_flag\n",
    "# What will be the output of the code given below?\n",
    "\n",
    "class A:\n",
    "    def m1(self):\n",
    "        return 20\n",
    "class B(A):\n",
    "    def m1(self):\n",
    "        return 30\n",
    "    def m2(self):\n",
    "        return 40\n",
    "class C(B):\n",
    "    def m2(self):\n",
    "        return 20\n",
    "obj1=A()\n",
    "obj2=B()\n",
    "obj3=C()\n",
    "print(obj1.m1() + obj3.m1()+ obj3.m2())"
   ]
  },
  {
   "cell_type": "code",
   "execution_count": 54,
   "metadata": {},
   "outputs": [
    {
     "ename": "RecursionError",
     "evalue": "maximum recursion depth exceeded",
     "output_type": "error",
     "traceback": [
      "\u001b[1;31m---------------------------------------------------------------------------\u001b[0m",
      "\u001b[1;31mRecursionError\u001b[0m                            Traceback (most recent call last)",
      "\u001b[1;32m<ipython-input-54-4a473b66508c>\u001b[0m in \u001b[0;36m<module>\u001b[1;34m\u001b[0m\n\u001b[0;32m     11\u001b[0m \u001b[1;31m# #         return val\u001b[0m\u001b[1;33m\u001b[0m\u001b[1;33m\u001b[0m\u001b[1;33m\u001b[0m\u001b[0m\n\u001b[0;32m     12\u001b[0m \u001b[0mobj\u001b[0m\u001b[1;33m=\u001b[0m\u001b[0mC\u001b[0m\u001b[1;33m(\u001b[0m\u001b[1;33m)\u001b[0m\u001b[1;33m\u001b[0m\u001b[1;33m\u001b[0m\u001b[0m\n\u001b[1;32m---> 13\u001b[1;33m \u001b[0mprint\u001b[0m\u001b[1;33m(\u001b[0m\u001b[0mobj\u001b[0m\u001b[1;33m.\u001b[0m\u001b[0mm1\u001b[0m\u001b[1;33m(\u001b[0m\u001b[1;33m)\u001b[0m\u001b[1;33m)\u001b[0m\u001b[1;33m\u001b[0m\u001b[1;33m\u001b[0m\u001b[0m\n\u001b[0m\u001b[0;32m     14\u001b[0m \u001b[1;33m\u001b[0m\u001b[0m\n",
      "\u001b[1;32m<ipython-input-53-4c74d81a2473>\u001b[0m in \u001b[0;36mm1\u001b[1;34m(self)\u001b[0m\n\u001b[0;32m      8\u001b[0m \u001b[1;32mclass\u001b[0m \u001b[0mC\u001b[0m\u001b[1;33m(\u001b[0m\u001b[0mB\u001b[0m\u001b[1;33m)\u001b[0m\u001b[1;33m:\u001b[0m\u001b[1;33m\u001b[0m\u001b[1;33m\u001b[0m\u001b[0m\n\u001b[0;32m      9\u001b[0m     \u001b[1;32mdef\u001b[0m \u001b[0mm1\u001b[0m\u001b[1;33m(\u001b[0m\u001b[0mself\u001b[0m\u001b[1;33m)\u001b[0m\u001b[1;33m:\u001b[0m\u001b[1;33m\u001b[0m\u001b[1;33m\u001b[0m\u001b[0m\n\u001b[1;32m---> 10\u001b[1;33m         \u001b[0mval\u001b[0m\u001b[1;33m=\u001b[0m\u001b[0mself\u001b[0m\u001b[1;33m.\u001b[0m\u001b[0mm1\u001b[0m\u001b[1;33m(\u001b[0m\u001b[1;33m)\u001b[0m\u001b[1;33m+\u001b[0m\u001b[1;36m20\u001b[0m\u001b[1;33m\u001b[0m\u001b[1;33m\u001b[0m\u001b[0m\n\u001b[0m\u001b[0;32m     11\u001b[0m         \u001b[1;32mreturn\u001b[0m \u001b[0mval\u001b[0m\u001b[1;33m\u001b[0m\u001b[1;33m\u001b[0m\u001b[0m\n\u001b[0;32m     12\u001b[0m \u001b[0mobj\u001b[0m\u001b[1;33m=\u001b[0m\u001b[0mC\u001b[0m\u001b[1;33m(\u001b[0m\u001b[1;33m)\u001b[0m\u001b[1;33m\u001b[0m\u001b[1;33m\u001b[0m\u001b[0m\n",
      "... last 1 frames repeated, from the frame below ...\n",
      "\u001b[1;32m<ipython-input-53-4c74d81a2473>\u001b[0m in \u001b[0;36mm1\u001b[1;34m(self)\u001b[0m\n\u001b[0;32m      8\u001b[0m \u001b[1;32mclass\u001b[0m \u001b[0mC\u001b[0m\u001b[1;33m(\u001b[0m\u001b[0mB\u001b[0m\u001b[1;33m)\u001b[0m\u001b[1;33m:\u001b[0m\u001b[1;33m\u001b[0m\u001b[1;33m\u001b[0m\u001b[0m\n\u001b[0;32m      9\u001b[0m     \u001b[1;32mdef\u001b[0m \u001b[0mm1\u001b[0m\u001b[1;33m(\u001b[0m\u001b[0mself\u001b[0m\u001b[1;33m)\u001b[0m\u001b[1;33m:\u001b[0m\u001b[1;33m\u001b[0m\u001b[1;33m\u001b[0m\u001b[0m\n\u001b[1;32m---> 10\u001b[1;33m         \u001b[0mval\u001b[0m\u001b[1;33m=\u001b[0m\u001b[0mself\u001b[0m\u001b[1;33m.\u001b[0m\u001b[0mm1\u001b[0m\u001b[1;33m(\u001b[0m\u001b[1;33m)\u001b[0m\u001b[1;33m+\u001b[0m\u001b[1;36m20\u001b[0m\u001b[1;33m\u001b[0m\u001b[1;33m\u001b[0m\u001b[0m\n\u001b[0m\u001b[0;32m     11\u001b[0m         \u001b[1;32mreturn\u001b[0m \u001b[0mval\u001b[0m\u001b[1;33m\u001b[0m\u001b[1;33m\u001b[0m\u001b[0m\n\u001b[0;32m     12\u001b[0m \u001b[0mobj\u001b[0m\u001b[1;33m=\u001b[0m\u001b[0mC\u001b[0m\u001b[1;33m(\u001b[0m\u001b[1;33m)\u001b[0m\u001b[1;33m\u001b[0m\u001b[1;33m\u001b[0m\u001b[0m\n",
      "\u001b[1;31mRecursionError\u001b[0m: maximum recursion depth exceeded"
     ]
    }
   ],
   "source": [
    "class A:\n",
    "    def m1(self):\n",
    "        return 20\n",
    "class B(A):\n",
    "    def m1(self):\n",
    "        val=super().m1()+30\n",
    "        return val\n",
    "class C(B):\n",
    "    def m1(self):\n",
    "        val=self.m1()+20\n",
    "        return val\n",
    "obj=C()\n",
    "print(obj.m1())\n",
    " "
   ]
  },
  {
   "cell_type": "markdown",
   "metadata": {},
   "source": [
    "@abstracrt methood"
   ]
  },
  {
   "cell_type": "code",
   "execution_count": 1,
   "metadata": {},
   "outputs": [],
   "source": [
    "# If we programmatically declare our return_policy() of Product class as an abstract method, then every sub-class of Product class MUST override the abstract method. We can make our return_policy() an abstract method as shown below"
   ]
  },
  {
   "cell_type": "code",
   "execution_count": 7,
   "metadata": {},
   "outputs": [],
   "source": [
    "from abc import ABCMeta,abstractmethod\n",
    "class something(metaclass=ABCMeta):\n",
    "    @abstractmethod\n",
    "    def return_policy(self):\n",
    "        pass\n",
    "    \n",
    "#abstract method calling"
   ]
  },
  {
   "cell_type": "code",
   "execution_count": 21,
   "metadata": {},
   "outputs": [
    {
     "ename": "TypeError",
     "evalue": "Can't instantiate abstract class items with abstract methods return_policy",
     "output_type": "error",
     "traceback": [
      "\u001b[1;31m---------------------------------------------------------------------------\u001b[0m",
      "\u001b[1;31mTypeError\u001b[0m                                 Traceback (most recent call last)",
      "\u001b[1;32m<ipython-input-21-cbfaf591abb7>\u001b[0m in \u001b[0;36m<module>\u001b[1;34m\u001b[0m\n\u001b[0;32m      6\u001b[0m \u001b[1;32mclass\u001b[0m \u001b[0mitems\u001b[0m\u001b[1;33m(\u001b[0m\u001b[0mproduct\u001b[0m\u001b[1;33m)\u001b[0m\u001b[1;33m:\u001b[0m\u001b[1;33m\u001b[0m\u001b[1;33m\u001b[0m\u001b[0m\n\u001b[0;32m      7\u001b[0m     \u001b[1;32mpass\u001b[0m\u001b[1;33m\u001b[0m\u001b[1;33m\u001b[0m\u001b[0m\n\u001b[1;32m----> 8\u001b[1;33m \u001b[0mitems\u001b[0m\u001b[1;33m(\u001b[0m\u001b[1;33m)\u001b[0m\u001b[1;33m\u001b[0m\u001b[1;33m\u001b[0m\u001b[0m\n\u001b[0m",
      "\u001b[1;31mTypeError\u001b[0m: Can't instantiate abstract class items with abstract methods return_policy"
     ]
    }
   ],
   "source": [
    "from abc import ABCMeta\n",
    "class product(metaclass=ABCMeta):\n",
    "    @abstractmethod\n",
    "    def return_policy(self):\n",
    "        pass\n",
    "class items(product):\n",
    "    pass\n",
    "items()"
   ]
  },
  {
   "cell_type": "code",
   "execution_count": 23,
   "metadata": {},
   "outputs": [
    {
     "data": {
      "text/plain": [
       "<__main__.Sofa at 0x1a9bfdc9640>"
      ]
     },
     "execution_count": 23,
     "metadata": {},
     "output_type": "execute_result"
    }
   ],
   "source": [
    "# If a child class overrides the abstract method, then its own child classes need not override the abstract method.\n",
    "from abc import ABCMeta, abstractmethod\n",
    "class Product(metaclass=ABCMeta):\n",
    "    @abstractmethod\n",
    "    def return_policy(self):\n",
    "        pass\n",
    "\n",
    "class Furniture(Product):\n",
    "    def return_policy(self):\n",
    "        print(\"Furnitures cannot be returned\")\n",
    "\n",
    "class Sofa(Furniture):\n",
    "    pass\n",
    "\n",
    "Sofa()\n",
    "       "
   ]
  },
  {
   "cell_type": "raw",
   "metadata": {},
   "source": [
    "main points\n",
    "\n",
    "Abstract classes should not be instantiated.\n",
    "An abstract class may contain 0 or many abstract methods.\n",
    "Usually the parent class is an abstract class.\n",
    "Abstract classes are meant to be inherited.\n",
    "If a class has an abstract method, then the class cannot be instantiated.\n",
    "The child class must implement/override all the abstract methods of the parent class. Else the child class cannot be instantiated."
   ]
  },
  {
   "cell_type": "code",
   "execution_count": null,
   "metadata": {},
   "outputs": [],
   "source": []
  },
  {
   "cell_type": "code",
   "execution_count": 28,
   "metadata": {},
   "outputs": [
    {
     "ename": "TypeError",
     "evalue": "Can't instantiate abstract class Parent with abstract methods show",
     "output_type": "error",
     "traceback": [
      "\u001b[1;31m---------------------------------------------------------------------------\u001b[0m",
      "\u001b[1;31mTypeError\u001b[0m                                 Traceback (most recent call last)",
      "\u001b[1;32m<ipython-input-28-7f3c2f62d823>\u001b[0m in \u001b[0;36m<module>\u001b[1;34m\u001b[0m\n\u001b[0;32m     17\u001b[0m         \u001b[0mprint\u001b[0m\u001b[1;33m(\u001b[0m\u001b[0mself\u001b[0m\u001b[1;33m.\u001b[0m\u001b[0m__var\u001b[0m\u001b[1;33m)\u001b[0m\u001b[1;33m\u001b[0m\u001b[1;33m\u001b[0m\u001b[0m\n\u001b[0;32m     18\u001b[0m \u001b[1;33m\u001b[0m\u001b[0m\n\u001b[1;32m---> 19\u001b[1;33m \u001b[0mobj\u001b[0m\u001b[1;33m=\u001b[0m\u001b[0mParent\u001b[0m\u001b[1;33m(\u001b[0m\u001b[1;33m)\u001b[0m\u001b[1;33m\u001b[0m\u001b[1;33m\u001b[0m\u001b[0m\n\u001b[0m\u001b[0;32m     20\u001b[0m \u001b[0mobj\u001b[0m\u001b[1;33m.\u001b[0m\u001b[0mshow\u001b[0m\u001b[1;33m(\u001b[0m\u001b[1;33m)\u001b[0m\u001b[1;33m\u001b[0m\u001b[1;33m\u001b[0m\u001b[0m\n",
      "\u001b[1;31mTypeError\u001b[0m: Can't instantiate abstract class Parent with abstract methods show"
     ]
    }
   ],
   "source": [
    "from abc import ABCMeta, abstractmethod\n",
    "class Parent(metaclass=ABCMeta):\n",
    "    def __init__(self):\n",
    "        self.num=100\n",
    "\n",
    "    @abstractmethod\n",
    "    def show(self):\n",
    "        print(self.num)\n",
    "\n",
    "class Child(Parent):\n",
    "    def __init__(self):\n",
    "        super().__init__()\n",
    "        self.__var=10\n",
    "\n",
    "    def show(self):\n",
    "        print(self.num)\n",
    "        print(self.__var)\n",
    "\n",
    "obj=Parent()\n",
    "obj.show()"
   ]
  },
  {
   "cell_type": "code",
   "execution_count": 44,
   "metadata": {},
   "outputs": [
    {
     "name": "stdout",
     "output_type": "stream",
     "text": [
      "5\n",
      "10\n"
     ]
    }
   ],
   "source": [
    "from abc import ABCMeta\n",
    "class hello(metaclass=ABCMeta):\n",
    "    def __init__(slef):\n",
    "        slef.num=5\n",
    "    @abstractmethod\n",
    "    def show(self):\n",
    "        print(self.num)\n",
    "class world(hello):\n",
    "    def __init__(slef):\n",
    "        super().__init__()\n",
    "        slef.__value=10\n",
    "    def show(slef):\n",
    "        print(slef.num)\n",
    "        print(slef.__value)\n",
    "obj=world()\n",
    "obj.show()"
   ]
  },
  {
   "cell_type": "code",
   "execution_count": 51,
   "metadata": {},
   "outputs": [
    {
     "name": "stdout",
     "output_type": "stream",
     "text": [
      "100\n",
      "50\n"
     ]
    }
   ],
   "source": [
    "from abc import ABCMeta, abstractmethod\n",
    "class Parent(metaclass=ABCMeta):\n",
    "    def __init__(self):\n",
    "        self.num=100\n",
    "\n",
    "    @abstractmethod\n",
    "    def show(self):\n",
    "        pass\n",
    "\n",
    "class Child(Parent):\n",
    "    def __init__(self):\n",
    "        super().__init__()\n",
    "        self.val=50\n",
    "    def show(slef):\n",
    "        print(slef.num)\n",
    "        print(slef.val)\n",
    "obj=Child()\n",
    "obj.show()\n"
   ]
  },
  {
   "cell_type": "code",
   "execution_count": 52,
   "metadata": {},
   "outputs": [
    {
     "name": "stdout",
     "output_type": "stream",
     "text": [
      "5\n",
      "10\n",
      "This is possible\n"
     ]
    }
   ],
   "source": [
    "# Q4 of 6\n",
    "# outlined_flag\n",
    "# What is the output of the following code snippet?\n",
    "\n",
    "from abc import ABCMeta, abstractmethod\n",
    "class Parent(metaclass=ABCMeta):\n",
    "    def __init__(self):\n",
    "        self.num=5\n",
    "    @abstractmethod\n",
    "    def show(self):\n",
    "        pass\n",
    "\n",
    "class Child(Parent):\n",
    "    def __init__(self):\n",
    "        super().__init__()\n",
    "        self.var=10\n",
    "\n",
    "class GrandChild(Child):\n",
    "    def show(self):\n",
    "        print(self.num)\n",
    "        print(self.var)\n",
    "        print(\"This is possible\")\n",
    "\n",
    "obj=GrandChild()\n",
    "obj.show()"
   ]
  },
  {
   "cell_type": "code",
   "execution_count": 53,
   "metadata": {},
   "outputs": [
    {
     "ename": "TypeError",
     "evalue": "Can't instantiate abstract class B with abstract methods method1",
     "output_type": "error",
     "traceback": [
      "\u001b[1;31m---------------------------------------------------------------------------\u001b[0m",
      "\u001b[1;31mTypeError\u001b[0m                                 Traceback (most recent call last)",
      "\u001b[1;32m<ipython-input-53-81529ef74eac>\u001b[0m in \u001b[0;36m<module>\u001b[1;34m\u001b[0m\n\u001b[0;32m      9\u001b[0m     \u001b[1;32mdef\u001b[0m \u001b[0mmethod2\u001b[0m\u001b[1;33m(\u001b[0m\u001b[0mself\u001b[0m\u001b[1;33m)\u001b[0m\u001b[1;33m:\u001b[0m\u001b[1;33m\u001b[0m\u001b[1;33m\u001b[0m\u001b[0m\n\u001b[0;32m     10\u001b[0m         \u001b[0mprint\u001b[0m\u001b[1;33m(\u001b[0m\u001b[1;34m\"456\"\u001b[0m\u001b[1;33m)\u001b[0m\u001b[1;33m\u001b[0m\u001b[1;33m\u001b[0m\u001b[0m\n\u001b[1;32m---> 11\u001b[1;33m \u001b[0mobj\u001b[0m\u001b[1;33m=\u001b[0m\u001b[0mB\u001b[0m\u001b[1;33m(\u001b[0m\u001b[1;33m)\u001b[0m\u001b[1;33m\u001b[0m\u001b[1;33m\u001b[0m\u001b[0m\n\u001b[0m\u001b[0;32m     12\u001b[0m \u001b[0mobj\u001b[0m\u001b[1;33m.\u001b[0m\u001b[0mmethod2\u001b[0m\u001b[1;33m(\u001b[0m\u001b[1;33m)\u001b[0m\u001b[1;33m\u001b[0m\u001b[1;33m\u001b[0m\u001b[0m\n",
      "\u001b[1;31mTypeError\u001b[0m: Can't instantiate abstract class B with abstract methods method1"
     ]
    }
   ],
   "source": [
    "from abc import ABCMeta, abstractmethod\n",
    "class A(metaclass=ABCMeta):\n",
    "    def __init__(self):\n",
    "        print(\"123\")\n",
    "    @abstractmethod\n",
    "    def method1(self):\n",
    "        pass\n",
    "class B(A):\n",
    "    def method2(self):\n",
    "        print(\"456\")\n",
    "obj=B()\n",
    "obj.method2()"
   ]
  },
  {
   "cell_type": "code",
   "execution_count": 69,
   "metadata": {},
   "outputs": [],
   "source": [
    "from abc import ABCMeta\n",
    "class DirectToHomeService(metaclass=ABCMeta):\n",
    "    __counter=101\n",
    "    def __init__(self,consumer_name):\n",
    "        self.__consumer_name=consumer_name\n",
    "        self.__consumer_number=DirectToHomeService.__counter\n",
    "        DirectToHomeService.__counter+=1\n",
    "    def get_consumer_name(self):\n",
    "        return self.__consumer_name\n",
    "    def get_consumer_name(self):\n",
    "        return self.__consumer_number\n",
    "    \n",
    "class BasePackage(DirectToHomeService):\n",
    "    def __init__(self,consumer_name,base_pack_name,subscription_period):\n",
    "        super().__init__(consumer_name)\n",
    "        self.__base_pack_name=base_pack_name\n",
    "        self.__subscription_period=subscription_period\n",
    "    def get_base_pack_name(self):\n",
    "        return self.__base_pack_name\n",
    "    def get_subscription_period(self):\n",
    "        return self.__subscription_period\n",
    "    def validate_base_pack_name(self):\n",
    "        if self.__base_pack_name==\"Silver\" or self.__base_pack_name==\"Gold\" or self.__base_pack_name==\"Platinum\":\n",
    "            return True\n",
    "            \n",
    "        else:\n",
    "            self.__base_pack_name=\"Silver\"\n",
    "            print(\"Base package name is incorrect, set to Silver\")\n",
    "            return True\n",
    "    def calculate_monthly_rent(self):\n",
    "         if self.__subscription_period>=1 and self.__subscription_period<=24:\n",
    "            if self.validate_base_pack_name() is True:\n",
    "                if self.__subscription_period>12:\n",
    "                    if self.__base_pack_name==\"Silver\":\n",
    "                        discount=350\n",
    "                        monthly_rent=350\n",
    "                    elif self.__base_pack_name==\"Gold\":\n",
    "                        discount=440\n",
    "                        monthly_rent=440\n",
    "                    elif self.__base_pack_name==\"Platinum\":\n",
    "                        discount=560\n",
    "                        monthly_rent=560\n",
    "                else:\n",
    "                    if self.__base_pack_name==\"Silver\":\n",
    "                        discount=0 \n",
    "                        monthly_rent=350\n",
    "                    elif self.__base_pack_name==\"Gold\":\n",
    "                        discount=0 \n",
    "                        monthly_rent=440\n",
    "                    elif self.__base_pack_name==\"Platinum\":\n",
    "                        discount=0 \n",
    "                        monthly_rent=560 \n",
    "                    final_monthly_rent=((monthly_rent * self.__subscription_period)-discount)/self.__subscription_period\n",
    "                \n",
    "                    return final_monthly_rent\n",
    "        \n",
    "            else:\n",
    "                return -1"
   ]
  },
  {
   "cell_type": "code",
   "execution_count": 1,
   "metadata": {},
   "outputs": [],
   "source": [
    "#exception handling in oops"
   ]
  },
  {
   "cell_type": "code",
   "execution_count": 10,
   "metadata": {},
   "outputs": [
    {
     "name": "stdout",
     "output_type": "stream",
     "text": [
      "plz enter card no1000\n",
      "something went wrong\n",
      "plz enter card no20000\n",
      "something went wrong\n",
      "plz enter card no102\n"
     ]
    }
   ],
   "source": [
    "class CreditCard:\n",
    "    def __init__(self,card_no,balance):\n",
    "        self.card_no=card_no\n",
    "        self.balance=balance\n",
    "class Customer:\n",
    "    def __init__(self,cards):\n",
    "        self.cards=cards\n",
    "        \n",
    "    def purchase_item(self,price,card_no):\n",
    "        if price<0:\n",
    "            raise Exception()\n",
    "        if card_no not in self.cards:\n",
    "            raise Exception()\n",
    "        if price>self.cards[card_no].balance:\n",
    "            raise Exception()\n",
    "            \n",
    "card1=CreditCard(101,10001)\n",
    "card2=CreditCard(102,20000)\n",
    "cards={card1.card_no:card1,card2.card_no:card2}\n",
    "c=Customer(cards)\n",
    "while(True):\n",
    "    card_no=int(input(\"plz enter card no\"))\n",
    "    try:\n",
    "        c.purchase_item(20000,card_no)\n",
    "        break\n",
    "    except Exception as e:\n",
    "        print(\"something went wrong\"+str(e))"
   ]
  },
  {
   "cell_type": "code",
   "execution_count": 11,
   "metadata": {},
   "outputs": [
    {
     "name": "stdout",
     "output_type": "stream",
     "text": [
      "Please enter a card number102\n",
      "Please enter a card number102\n",
      "Please enter a card number100\n",
      "Please enter a card number101\n",
      "Please enter a card number101\n",
      "Please enter a card number100\n",
      "Please enter a card number22222222222\n",
      "Please enter a card number\n"
     ]
    },
    {
     "ename": "ValueError",
     "evalue": "invalid literal for int() with base 10: ''",
     "output_type": "error",
     "traceback": [
      "\u001b[1;31m---------------------------------------------------------------------------\u001b[0m",
      "\u001b[1;31mValueError\u001b[0m                                Traceback (most recent call last)",
      "\u001b[1;32m<ipython-input-11-5b671074ecf8>\u001b[0m in \u001b[0;36m<module>\u001b[1;34m\u001b[0m\n\u001b[0;32m     18\u001b[0m \u001b[0mc\u001b[0m\u001b[1;33m=\u001b[0m\u001b[0mCustomer\u001b[0m\u001b[1;33m(\u001b[0m\u001b[0mcards\u001b[0m\u001b[1;33m)\u001b[0m\u001b[1;33m\u001b[0m\u001b[1;33m\u001b[0m\u001b[0m\n\u001b[0;32m     19\u001b[0m \u001b[1;32mwhile\u001b[0m\u001b[1;33m(\u001b[0m\u001b[1;32mTrue\u001b[0m\u001b[1;33m)\u001b[0m\u001b[1;33m:\u001b[0m\u001b[1;33m\u001b[0m\u001b[1;33m\u001b[0m\u001b[0m\n\u001b[1;32m---> 20\u001b[1;33m     \u001b[0mcard_no\u001b[0m\u001b[1;33m=\u001b[0m\u001b[0mint\u001b[0m\u001b[1;33m(\u001b[0m\u001b[0minput\u001b[0m\u001b[1;33m(\u001b[0m\u001b[1;34m\"Please enter a card number\"\u001b[0m\u001b[1;33m)\u001b[0m\u001b[1;33m)\u001b[0m\u001b[1;33m\u001b[0m\u001b[1;33m\u001b[0m\u001b[0m\n\u001b[0m\u001b[0;32m     21\u001b[0m     \u001b[1;32mtry\u001b[0m\u001b[1;33m:\u001b[0m\u001b[1;33m\u001b[0m\u001b[1;33m\u001b[0m\u001b[0m\n\u001b[0;32m     22\u001b[0m         \u001b[0mc\u001b[0m\u001b[1;33m.\u001b[0m\u001b[0mpurchase_item\u001b[0m\u001b[1;33m(\u001b[0m\u001b[1;36m1200\u001b[0m\u001b[1;33m,\u001b[0m\u001b[0mcard_no\u001b[0m\u001b[1;33m)\u001b[0m\u001b[1;33m\u001b[0m\u001b[1;33m\u001b[0m\u001b[0m\n",
      "\u001b[1;31mValueError\u001b[0m: invalid literal for int() with base 10: ''"
     ]
    }
   ],
   "source": [
    "class CreditCard:\n",
    "    def __init__(self,card_no,balance):\n",
    "        self.card_no=card_no\n",
    "        self.balance=balance\n",
    "class Customer:\n",
    "    def __init__(self,cards):\n",
    "        self.cards=cards\n",
    "    def purchase_item(self, price, card_no):\n",
    "        if price < 0:\n",
    "            raise Exception(\"Invalid Price\")\n",
    "        if card_no not in self.cards:\n",
    "            raise Exception(\"Wrong card\")\n",
    "        if price>self.cards[card_no].balance:\n",
    "            raise Exception(\"Wrong card\")\n",
    "card1=CreditCard(101,800)\n",
    "card2=CreditCard(102,2000)\n",
    "cards={card1.card_no:card1,card2.card_no:card2}\n",
    "c=Customer(cards)\n",
    "while(True):\n",
    "    card_no=int(input(\"Please enter a card number\"))\n",
    "    try:\n",
    "        c.purchase_item(1200,card_no)\n",
    "    except Exception as e:\n",
    "        if str(e)==\"Invalid Price\":\n",
    "            print(\"Product price is wrong\")\n",
    "            break\n",
    "        if str(e)==\"Wrong card\":\n",
    "            continue\n"
   ]
  },
  {
   "cell_type": "code",
   "execution_count": 3,
   "metadata": {},
   "outputs": [
    {
     "name": "stdout",
     "output_type": "stream",
     "text": [
      "Invalid account number\n"
     ]
    }
   ],
   "source": [
    "class InvalidAccountException(Exception):\n",
    "    pass\n",
    "class Account:\n",
    "    account_list=[1001,1002,1003,1004]\n",
    "    def validate_account(self,account_id):\n",
    "        status=0\n",
    "        for acct_id in self.account_list:\n",
    "            if(account_id==acct_id):\n",
    "                status=1\n",
    "                break\n",
    "        if(status!=0):\n",
    "            return True\n",
    "        else:\n",
    "            raise InvalidAccountException\n",
    "try:\n",
    "    account1=Account()\n",
    "    account1.validate_account(1006)\n",
    "    print(\"Valid account number\")\n",
    "except InvalidAccountException:\n",
    "    print(\"Invalid account number\")"
   ]
  },
  {
   "cell_type": "code",
   "execution_count": 8,
   "metadata": {},
   "outputs": [
    {
     "name": "stdout",
     "output_type": "stream",
     "text": [
      "2\n",
      "3\n"
     ]
    }
   ],
   "source": [
    "class Project:\n",
    "    def __init__(self,employee_list):\n",
    "        self.__employee_list=employee_list\n",
    "\n",
    "    def validate_employee(self,employee_id):\n",
    "        try:\n",
    "            if employee_id not in self.__employee_list:\n",
    "                raise Exception\n",
    "                print(\"1\")\n",
    "        except Exception:\n",
    "            print(\"2\")\n",
    "project1=Project([1001,1002,1003])\n",
    "project1.validate_employee(1004)\n",
    "print(\"3\")"
   ]
  },
  {
   "cell_type": "code",
   "execution_count": 16,
   "metadata": {},
   "outputs": [
    {
     "name": "stdout",
     "output_type": "stream",
     "text": [
      "True\n",
      "Not Eligible\n"
     ]
    }
   ],
   "source": [
    "class NotEligibleException(Exception):\n",
    "    pass\n",
    "class Employee:\n",
    "    def __init__(self,salary):\n",
    "        self.__salary=salary\n",
    "\n",
    "    def check_salary(self):\n",
    "        if(self.__salary < 2000):\n",
    "            raise NotEligibleException\n",
    "            return False\n",
    "        else:\n",
    "            return True\n",
    "\n",
    "emp1=Employee(5000)\n",
    "emp2=Employee(1000)\n",
    "try:\n",
    "    status=emp1.check_salary()\n",
    "    print(status)\n",
    "    status=emp2.check_salary()\n",
    "    print(status)\n",
    "except NotEligibleException:\n",
    "    print(\"Not Eligible\")"
   ]
  },
  {
   "cell_type": "code",
   "execution_count": 22,
   "metadata": {},
   "outputs": [
    {
     "name": "stdout",
     "output_type": "stream",
     "text": [
      "1\n",
      "3\n"
     ]
    }
   ],
   "source": [
    "class NotEligibleException(Exception):\n",
    "    pass\n",
    "class Employee:\n",
    "    def __init__(self,salary):\n",
    "        self.__salary=salary\n",
    "\n",
    "    def check_salary(self):\n",
    "        try:\n",
    "            if(self.__salary < 2000):\n",
    "                raise NotEligibleException\n",
    "            else:\n",
    "                return True\n",
    "        except NotEligibleException:\n",
    "            print(\"1\")\n",
    "            raise NotEligibleException\n",
    "\n",
    "emp1=Employee(1000)\n",
    "try:\n",
    "    status=emp1.check_salary()\n",
    "    print(\"2\")\n",
    "except NotEligibleException:\n",
    "    print(\"3\")"
   ]
  },
  {
   "cell_type": "code",
   "execution_count": 23,
   "metadata": {},
   "outputs": [
    {
     "name": "stdout",
     "output_type": "stream",
     "text": [
      "2\n"
     ]
    }
   ],
   "source": [
    "class InvalidEmployeeException(Exception):\n",
    "    pass\n",
    "class Project:\n",
    "    def __init__(self,employee_list):\n",
    "        self.__employee_list=employee_list\n",
    "\n",
    "    def validate_employee(self,employee_id):\n",
    "        flag=False\n",
    "        for key in self.__employee_list:\n",
    "            if(key==employee_id):\n",
    "                flag=True\n",
    "        if(flag==False):\n",
    "            raise InvalidEmployeeException\n",
    "            print(\"1\")\n",
    "        return True\n",
    "\n",
    "project1=Project([1001,1002,1003])\n",
    "try:\n",
    "    print(project1.validate_employee(1005))\n",
    "except Exception:\n",
    "    print(\"2\")\n",
    "except InvalidEmployeeException:\n",
    "    print(\"3\")"
   ]
  },
  {
   "cell_type": "code",
   "execution_count": 30,
   "metadata": {
    "scrolled": true
   },
   "outputs": [
    {
     "name": "stdout",
     "output_type": "stream",
     "text": [
      "Invalid Customer Exception raised.\n"
     ]
    }
   ],
   "source": [
    "class CustomerBusiness:\n",
    "    def get_customer(self,cust_id):\n",
    "        if cust_id == \"\":\n",
    "            raise InvalidCustomerException()\n",
    "        return cust_id\n",
    "\n",
    "class AccountUI:\n",
    "    def deposit_money_ui(self):\n",
    "        try:\n",
    "            cust_id = CustomerBusiness().get_customer(\"\")\n",
    "        except InvalidCustomerException:\n",
    "            print(\"Invalid Customer Exception raised.\")\n",
    "        except Exception:\n",
    "            print(\"Exception raised\")\n",
    "\n",
    "class InvalidCustomerException(Exception):\n",
    "    pass\n",
    "\n",
    "a=AccountUI()\n",
    "a.deposit_money_ui()"
   ]
  },
  {
   "cell_type": "code",
   "execution_count": 33,
   "metadata": {},
   "outputs": [
    {
     "name": "stdout",
     "output_type": "stream",
     "text": [
      "Invalid Customer Exception raised.\n"
     ]
    }
   ],
   "source": [
    "class CustomerBusiness:\n",
    "    def get_customer(self,cust_id):\n",
    "        if cust_id == \"\":\n",
    "            raise InvalidCustomerException()\n",
    "        return cust_id\n",
    "\n",
    "class AccountUI:\n",
    "    def deposit_money_ui(self):\n",
    "        try:\n",
    "            cust_id = CustomerBusiness().get_customer(\"\")\n",
    "        except InvalidCustomerException:\n",
    "            print(\"Invalid Customer Exception raised.\")\n",
    "        except Exception:\n",
    "            print(\"Exception raised\")\n",
    "\n",
    "class InvalidCustomerException(Exception):\n",
    "    pass\n",
    "\n",
    "a=AccountUI()\n",
    "a.deposit_money_ui()"
   ]
  },
  {
   "cell_type": "code",
   "execution_count": 36,
   "metadata": {},
   "outputs": [],
   "source": [
    "# #oops common mistake\n",
    "# I’m updating the instance variable in the method correctly but it shows \"None\" or an old value.\n",
    "\n",
    "# Possible Cause:\n",
    "\n",
    "# You might have defined a local variable with the same name as the instance variable.\n",
    "# In such a case, although the local variable is updated the instance variable remains unchanged. \n",
    "# When a method uses this instance variable, it results in test cases failing for that method\n",
    "\n",
    "# Example\n",
    "\n",
    "# The method calc_premium needs to calculate the premium amount and set it to the instance variable premium"
   ]
  },
  {
   "cell_type": "code",
   "execution_count": 39,
   "metadata": {},
   "outputs": [
    {
     "ename": "SyntaxError",
     "evalue": "invalid syntax (<ipython-input-39-85ae39822f20>, line 11)",
     "output_type": "error",
     "traceback": [
      "\u001b[1;36m  File \u001b[1;32m\"<ipython-input-39-85ae39822f20>\"\u001b[1;36m, line \u001b[1;32m11\u001b[0m\n\u001b[1;33m    else self.__type == \"Four Wheeler\":\u001b[0m\n\u001b[1;37m         ^\u001b[0m\n\u001b[1;31mSyntaxError\u001b[0m\u001b[1;31m:\u001b[0m invalid syntax\n"
     ]
    }
   ],
   "source": [
    "class Vehicle:\n",
    "    def __init__(self, cost, type):\n",
    "        self.__cost = cost\n",
    "        self.__type = type\n",
    "        self.__premium  = None                  #Instance variable\n",
    "    \n",
    "    def calc_premium(self):\n",
    "        premium = 0                             #Local variable\n",
    "        if(self.__type == \"Two Wheeler\"):\n",
    "            premium  = (self.__cost * (2/100))\n",
    "        else self.__type == \"Four Wheeler\":\n",
    "            premium  = self.__cost * (6/100)\n",
    "        \n",
    "veh1 = Vehicle(1000, \"Two Wheeler\")\n",
    "veh1.calc_premium()\n",
    "print(veh1._Vehicle__premium)"
   ]
  },
  {
   "cell_type": "code",
   "execution_count": 40,
   "metadata": {},
   "outputs": [],
   "source": [
    "# Here, the calculated premium amount is stored in a local variable premium and not in the instance variable. This local variable created within the method goes out of scope once the function ends and the calculated premium is lost. The instance variable is never updated and thus remains 'None' in this case.\n",
    "\n",
    "# How do I fix it?\n",
    "\n",
    "# Always refer to instance variables of a class using an object reference. If you are referring to an instance variable within its class (in an instance method) always use the keyword 'self'.\n",
    "\n",
    "# Reinforce your learning and practice:\n",
    "\n",
    "# Creating and updating of local variable and instance variable in the method of a class"
   ]
  },
  {
   "cell_type": "code",
   "execution_count": 42,
   "metadata": {},
   "outputs": [],
   "source": [
    "# This is all about oops A TO Z for practice sets visit  "
   ]
  },
  {
   "cell_type": "code",
   "execution_count": 67,
   "metadata": {},
   "outputs": [
    {
     "data": {
      "text/plain": [
       "<matplotlib.image.AxesImage at 0x269e415fa90>"
      ]
     },
     "execution_count": 67,
     "metadata": {},
     "output_type": "execute_result"
    },
    {
     "data": {
      "image/png": "[encoded data removed]",
      "text/plain": [
       "<Figure size 432x288 with 1 Axes>"
      ]
     },
     "metadata": {
      "needs_background": "light"
     },
     "output_type": "display_data"
    }
   ],
   "source": [
    "import pyqrcode\n",
    "import png\n",
    "from pyqrcode import QRCode\n",
    "import matplotlib.pyplot as plt\n",
    "s = \"https://infytq.onwingspan.com/\"\n",
    "url = pyqrcode.create(s)\n",
    "url.svg(\"myqdr.svg\", scale = 8)\n",
    "url.png('mydqr.png', scale = 6)\n",
    "im=Image.open(\"mydqr.png\")\n",
    "plt.title(\"Scan this QR code to access link for more practice and indeapth knowledge\",fontsize=15,color=\"red\")\n",
    "plt.imshow(im)"
   ]
  }
 ],
 "metadata": {
  "kernelspec": {
   "display_name": "Python 3",
   "language": "python",
   "name": "python3"
  },
  "language_info": {
   "codemirror_mode": {
    "name": "ipython",
    "version": 3
   },
   "file_extension": ".py",
   "mimetype": "text/x-python",
   "name": "python",
   "nbconvert_exporter": "python",
   "pygments_lexer": "ipython3",
   "version": "3.8.8"
  }
 },
 "nbformat": 4,
 "nbformat_minor": 2
}
